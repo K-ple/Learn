{
 "cells": [
  {
   "cell_type": "markdown",
   "id": "practical-printer",
   "metadata": {
    "id": "practical-printer"
   },
   "source": [
    "# [2차시] 탐색적 자료 분석 실습\n",
    "\n",
    "'AI 엔지니어 기초 다지기' 과정에서 제공되는 실습코드 중 첫번째인 본 베이스라인 모델은 머신러닝 모델을 사용하지 않고 확률적 연산만으로 예측을 진행하는 과정으로 이루어져 있습니다.\n",
    "\n",
    "여기서 베이스라인 모델이란, 앞으로 만들고자 하는 머신러닝 모델이 의미있기 위해 넘어야 하는 최소한의 성능을 제공하는 모델을 의미합니다.\n",
    "\n",
    "* 이전 월 고객 총 구매액이 300을 넘을 경우의 확률을 1,\n",
    "* 300이하일 경우 고객 총 구매액을 300으로 나눈 값을 예측 확률로 사용합니다.\n",
    "\n",
    "2011년 12월 데이터가 없기 때문에\n",
    "* 2011년 10월을 train 데이터,\n",
    "* 2011년 11월을 validation 데이터로 사용해 베이스라인 모델의 성능을 측정합니다."
   ]
  },
  {
   "cell_type": "markdown",
   "id": "friendly-centre",
   "metadata": {
    "id": "friendly-centre"
   },
   "source": [
    "## Library Import"
   ]
  },
  {
   "cell_type": "code",
   "execution_count": 1,
   "id": "expressed-palestine",
   "metadata": {
    "id": "expressed-palestine",
    "ExecuteTime": {
     "end_time": "2024-04-30T03:45:19.554419Z",
     "start_time": "2024-04-30T03:45:19.174158Z"
    }
   },
   "outputs": [],
   "source": [
    "# Suppress warnings\n",
    "import warnings\n",
    "warnings.filterwarnings('ignore')\n",
    "\n",
    "import os, sys, gc, warnings, random\n",
    "from typing import List\n",
    "\n",
    "import datetime\n",
    "import dateutil.relativedelta\n",
    "\n",
    "# Data manipulation\n",
    "import pandas as pd\n",
    "import numpy as np\n",
    "\n",
    "# Visualization\n",
    "import matplotlib.pyplot as plt\n",
    "import seaborn as sns\n",
    "\n",
    "# Machine learning\n",
    "from sklearn.pipeline import Pipeline\n",
    "from sklearn.preprocessing import MinMaxScaler, LabelEncoder\n",
    "from sklearn.impute import SimpleImputer\n",
    "from sklearn.metrics import precision_score, recall_score, f1_score, roc_auc_score, precision_recall_curve, roc_curve\n",
    "from sklearn.model_selection import train_test_split, cross_val_score, KFold, StratifiedKFold, GroupKFold\n",
    "from sklearn.ensemble import RandomForestClassifier\n",
    "\n",
    "import lightgbm as lgb\n",
    "\n",
    "from tqdm.notebook import trange, tqdm\n",
    "\n",
    "from IPython.display import display\n",
    "\n",
    "%matplotlib inline\n",
    "\n",
    "pd.options.display.max_rows = 10000\n",
    "pd.options.display.max_columns = 1000\n",
    "pd.options.display.max_colwidth = 1000"
   ]
  },
  {
   "cell_type": "markdown",
   "id": "nonprofit-baseline",
   "metadata": {
    "id": "nonprofit-baseline"
   },
   "source": [
    "## 레이블 생성 함수 정의\n",
    "\n",
    "- 레이블 생성 함수는 연월을 인자로 받아서 고객 아이디별로 총 구매액이 인자로 받는 구매액 임계값을 넘는지 여부를 바이너리 레이블로 생성하는 함수"
   ]
  },
  {
   "cell_type": "code",
   "execution_count": 2,
   "id": "connected-sensitivity",
   "metadata": {
    "id": "connected-sensitivity",
    "ExecuteTime": {
     "end_time": "2024-04-30T03:45:29.995331Z",
     "start_time": "2024-04-30T03:45:29.991198Z"
    }
   },
   "outputs": [],
   "source": [
    "TOTAL_THRES = 300\n",
    "\n",
    "'''\n",
    "    입력인자로 받는 year_month에 대해 고객 ID별로 총 구매액이\n",
    "    구매액 임계값을 넘는지 여부의 binary label을 생성하는 함수\n",
    "'''\n",
    "def generate_label(\n",
    "    df: pd.DataFrame,\n",
    "    year_month: str,\n",
    "    total_thres: int = TOTAL_THRES,\n",
    "    print_log: bool = False\n",
    "):\n",
    "    df = df.copy()\n",
    "\n",
    "    # year_month에 해당하는 label 데이터 생성\n",
    "    df['year_month'] = df['order_date'].dt.strftime('%Y-%m')\n",
    "    df.reset_index(drop=True, inplace=True)\n",
    "\n",
    "    # year_month 이전 월의 고객 ID 추출\n",
    "    cust = df[df['year_month']<year_month]['customer_id'].unique()\n",
    "    # year_month에 해당하는 데이터 선택\n",
    "    df = df[df['year_month']==year_month]\n",
    "\n",
    "    # label 데이터프레임 생성\n",
    "    label = pd.DataFrame({'customer_id':cust})\n",
    "    label['year_month'] = year_month\n",
    "\n",
    "    # year_month에 해당하는 고객 ID의 구매액의 합 계산\n",
    "    grped = df.groupby(['customer_id','year_month'], as_index=False)[['total']].sum()\n",
    "\n",
    "    # label 데이터프레임과 merge하고 구매액 임계값을 넘었는지 여부로 label 생성\n",
    "    label = label.merge(grped, on=['customer_id','year_month'], how='left')\n",
    "    label['total'].fillna(0.0, inplace=True)\n",
    "    label['label'] = (label['total'] > total_thres).astype(int)\n",
    "\n",
    "    # 고객 ID로 정렬\n",
    "    label = label.sort_values('customer_id').reset_index(drop=True)\n",
    "    if print_log: print(f'{year_month} - final label shape: {label.shape}')\n",
    "\n",
    "    return label"
   ]
  },
  {
   "cell_type": "markdown",
   "id": "surgical-cornell",
   "metadata": {
    "id": "surgical-cornell"
   },
   "source": [
    "## 평가지표 출력 함수 정의"
   ]
  },
  {
   "cell_type": "code",
   "execution_count": 3,
   "id": "consistent-marker",
   "metadata": {
    "id": "consistent-marker",
    "ExecuteTime": {
     "end_time": "2024-04-30T03:45:34.231710Z",
     "start_time": "2024-04-30T03:45:34.227076Z"
    }
   },
   "outputs": [],
   "source": [
    "'''\n",
    "    평가지표를 출력하는 함수\n",
    "'''\n",
    "def print_score(label: List[float], pred: List[float], prob_thres: float = 0.5):\n",
    "    print('Precision: {:.5f}'.format(precision_score(label, pred>prob_thres)))\n",
    "    print('Recall: {:.5f}'.format(recall_score(label, pred>prob_thres)))\n",
    "    print('F1 Score: {:.5f}'.format(f1_score(label, pred>prob_thres)))\n",
    "    print('ROC AUC Score: {:.5f}'.format(roc_auc_score(label, pred)))"
   ]
  },
  {
   "cell_type": "markdown",
   "id": "infectious-creation",
   "metadata": {
    "id": "infectious-creation"
   },
   "source": [
    "## Train 데이터 읽기\n",
    "- 9개의 feature를 가진 780502개의 train data"
   ]
  },
  {
   "cell_type": "code",
   "execution_count": 5,
   "id": "cheap-major",
   "metadata": {
    "id": "cheap-major",
    "outputId": "6bc522ee-0eae-41be-8cd0-8f7c1817855e",
    "ExecuteTime": {
     "end_time": "2024-04-30T03:45:53.888002Z",
     "start_time": "2024-04-30T03:45:53.017448Z"
    }
   },
   "outputs": [
    {
     "name": "stdout",
     "output_type": "stream",
     "text": [
      "(780502, 9)\n"
     ]
    },
    {
     "data": {
      "text/plain": "  order_id product_id                          description  quantity  \\\n0   489434      85048  15CM CHRISTMAS GLASS BALL 20 LIGHTS        12   \n1   489434     79323P                   PINK CHERRY LIGHTS        12   \n2   489434     79323W                  WHITE CHERRY LIGHTS        12   \n3   489434      22041         RECORD FRAME 7\" SINGLE SIZE         48   \n4   489434      21232       STRAWBERRY CERAMIC TRINKET BOX        24   \n\n           order_date    price  customer_id         country   total  \n0 2009-12-01 07:45:00  11.4675        13085  United Kingdom  137.61  \n1 2009-12-01 07:45:00  11.1375        13085  United Kingdom  133.65  \n2 2009-12-01 07:45:00  11.1375        13085  United Kingdom  133.65  \n3 2009-12-01 07:45:00   3.4650        13085  United Kingdom  166.32  \n4 2009-12-01 07:45:00   2.0625        13085  United Kingdom   49.50  ",
      "text/html": "<div>\n<style scoped>\n    .dataframe tbody tr th:only-of-type {\n        vertical-align: middle;\n    }\n\n    .dataframe tbody tr th {\n        vertical-align: top;\n    }\n\n    .dataframe thead th {\n        text-align: right;\n    }\n</style>\n<table border=\"1\" class=\"dataframe\">\n  <thead>\n    <tr style=\"text-align: right;\">\n      <th></th>\n      <th>order_id</th>\n      <th>product_id</th>\n      <th>description</th>\n      <th>quantity</th>\n      <th>order_date</th>\n      <th>price</th>\n      <th>customer_id</th>\n      <th>country</th>\n      <th>total</th>\n    </tr>\n  </thead>\n  <tbody>\n    <tr>\n      <th>0</th>\n      <td>489434</td>\n      <td>85048</td>\n      <td>15CM CHRISTMAS GLASS BALL 20 LIGHTS</td>\n      <td>12</td>\n      <td>2009-12-01 07:45:00</td>\n      <td>11.4675</td>\n      <td>13085</td>\n      <td>United Kingdom</td>\n      <td>137.61</td>\n    </tr>\n    <tr>\n      <th>1</th>\n      <td>489434</td>\n      <td>79323P</td>\n      <td>PINK CHERRY LIGHTS</td>\n      <td>12</td>\n      <td>2009-12-01 07:45:00</td>\n      <td>11.1375</td>\n      <td>13085</td>\n      <td>United Kingdom</td>\n      <td>133.65</td>\n    </tr>\n    <tr>\n      <th>2</th>\n      <td>489434</td>\n      <td>79323W</td>\n      <td>WHITE CHERRY LIGHTS</td>\n      <td>12</td>\n      <td>2009-12-01 07:45:00</td>\n      <td>11.1375</td>\n      <td>13085</td>\n      <td>United Kingdom</td>\n      <td>133.65</td>\n    </tr>\n    <tr>\n      <th>3</th>\n      <td>489434</td>\n      <td>22041</td>\n      <td>RECORD FRAME 7\" SINGLE SIZE</td>\n      <td>48</td>\n      <td>2009-12-01 07:45:00</td>\n      <td>3.4650</td>\n      <td>13085</td>\n      <td>United Kingdom</td>\n      <td>166.32</td>\n    </tr>\n    <tr>\n      <th>4</th>\n      <td>489434</td>\n      <td>21232</td>\n      <td>STRAWBERRY CERAMIC TRINKET BOX</td>\n      <td>24</td>\n      <td>2009-12-01 07:45:00</td>\n      <td>2.0625</td>\n      <td>13085</td>\n      <td>United Kingdom</td>\n      <td>49.50</td>\n    </tr>\n  </tbody>\n</table>\n</div>"
     },
     "execution_count": 5,
     "metadata": {},
     "output_type": "execute_result"
    }
   ],
   "source": [
    "data = pd.read_csv(\"./input/train.csv\", parse_dates=[\"order_date\"])\n",
    "print(data.shape) # data shape 확인\n",
    "data.head()"
   ]
  },
  {
   "cell_type": "markdown",
   "id": "expired-conservation",
   "metadata": {
    "id": "expired-conservation"
   },
   "source": [
    "## Pandas info() 함수로 데이터 타입 및 null 체크"
   ]
  },
  {
   "cell_type": "code",
   "execution_count": 7,
   "id": "worst-extraction",
   "metadata": {
    "id": "worst-extraction",
    "outputId": "7d4ad9af-072b-41f2-f1d3-e7a78bf83945",
    "ExecuteTime": {
     "end_time": "2024-04-30T03:46:08.277860Z",
     "start_time": "2024-04-30T03:46:08.192564Z"
    }
   },
   "outputs": [
    {
     "name": "stdout",
     "output_type": "stream",
     "text": [
      "<class 'pandas.core.frame.DataFrame'>\n",
      "RangeIndex: 780502 entries, 0 to 780501\n",
      "Data columns (total 9 columns):\n",
      " #   Column       Non-Null Count   Dtype         \n",
      "---  ------       --------------   -----         \n",
      " 0   order_id     780502 non-null  object        \n",
      " 1   product_id   780502 non-null  object        \n",
      " 2   description  780502 non-null  object        \n",
      " 3   quantity     780502 non-null  int64         \n",
      " 4   order_date   780502 non-null  datetime64[ns]\n",
      " 5   price        780502 non-null  float64       \n",
      " 6   customer_id  780502 non-null  int64         \n",
      " 7   country      780502 non-null  object        \n",
      " 8   total        780502 non-null  float64       \n",
      "dtypes: datetime64[ns](1), float64(2), int64(2), object(4)\n",
      "memory usage: 53.6+ MB\n"
     ]
    }
   ],
   "source": [
    "data.info()"
   ]
  },
  {
   "cell_type": "markdown",
   "id": "missing-theory",
   "metadata": {
    "id": "missing-theory"
   },
   "source": [
    "## Pandas isna(), sum() 함수로 null 데이터 개수 체크"
   ]
  },
  {
   "cell_type": "code",
   "execution_count": 6,
   "id": "listed-stations",
   "metadata": {
    "id": "listed-stations",
    "outputId": "450c6028-fcbc-4411-d185-5e99e5d865d7",
    "ExecuteTime": {
     "end_time": "2024-04-30T03:46:03.770449Z",
     "start_time": "2024-04-30T03:46:03.697635Z"
    }
   },
   "outputs": [
    {
     "data": {
      "text/plain": "order_id       0\nproduct_id     0\ndescription    0\nquantity       0\norder_date     0\nprice          0\ncustomer_id    0\ncountry        0\ntotal          0\ndtype: int64"
     },
     "execution_count": 6,
     "metadata": {},
     "output_type": "execute_result"
    }
   ],
   "source": [
    "data.isna().sum()"
   ]
  },
  {
   "cell_type": "markdown",
   "id": "mineral-superintendent",
   "metadata": {
    "id": "mineral-superintendent"
   },
   "source": [
    "## null 데이터 비율 체크"
   ]
  },
  {
   "cell_type": "code",
   "execution_count": 8,
   "id": "continued-integration",
   "metadata": {
    "id": "continued-integration",
    "outputId": "710d7a66-2fda-4485-bff1-ef900f7c3f08",
    "ExecuteTime": {
     "end_time": "2024-04-30T03:46:11.539966Z",
     "start_time": "2024-04-30T03:46:11.455048Z"
    }
   },
   "outputs": [
    {
     "data": {
      "text/plain": "order_id       0.0\nproduct_id     0.0\ndescription    0.0\nquantity       0.0\norder_date     0.0\nprice          0.0\ncustomer_id    0.0\ncountry        0.0\ntotal          0.0\ndtype: float64"
     },
     "execution_count": 8,
     "metadata": {},
     "output_type": "execute_result"
    }
   ],
   "source": [
    "data.isna().sum()/data.shape[0] # 전체 개수로 나눠서 결측치 데이터 비율 확인"
   ]
  },
  {
   "cell_type": "markdown",
   "id": "accepting-andorra",
   "metadata": {
    "id": "accepting-andorra"
   },
   "source": [
    "## Pandas describe() 함수로 수치형 데이터 기본 통계량 확인"
   ]
  },
  {
   "cell_type": "code",
   "execution_count": 9,
   "id": "honey-scanning",
   "metadata": {
    "id": "honey-scanning",
    "outputId": "273f5583-801c-416d-bdef-3b44c916666f",
    "ExecuteTime": {
     "end_time": "2024-04-30T03:46:15.432944Z",
     "start_time": "2024-04-30T03:46:15.328216Z"
    }
   },
   "outputs": [
    {
     "data": {
      "text/plain": "            quantity                     order_date          price  \\\ncount  780502.000000                         780502  780502.000000   \nmean       12.623307  2010-12-26 01:08:30.093324288       6.140931   \nmin    -74215.000000            2009-12-01 07:45:00       0.000000   \n25%         2.000000            2010-06-29 11:10:00       2.062500   \n50%         5.000000            2010-11-28 13:40:00       3.217500   \n75%        12.000000            2011-07-18 11:55:00       6.187500   \nmax     74215.000000            2011-11-30 17:42:00   64300.500000   \nstd       143.906302                            NaN     119.042266   \n\n         customer_id          total  \ncount  780502.000000  780502.000000  \nmean    15313.393466      33.715373  \nmin     12346.000000 -127352.940000  \n25%     13963.000000       7.260000  \n50%     15239.000000      19.470000  \n75%     16788.000000      32.175000  \nmax     18287.000000  127352.940000  \nstd      1695.765797     274.207403  ",
      "text/html": "<div>\n<style scoped>\n    .dataframe tbody tr th:only-of-type {\n        vertical-align: middle;\n    }\n\n    .dataframe tbody tr th {\n        vertical-align: top;\n    }\n\n    .dataframe thead th {\n        text-align: right;\n    }\n</style>\n<table border=\"1\" class=\"dataframe\">\n  <thead>\n    <tr style=\"text-align: right;\">\n      <th></th>\n      <th>quantity</th>\n      <th>order_date</th>\n      <th>price</th>\n      <th>customer_id</th>\n      <th>total</th>\n    </tr>\n  </thead>\n  <tbody>\n    <tr>\n      <th>count</th>\n      <td>780502.000000</td>\n      <td>780502</td>\n      <td>780502.000000</td>\n      <td>780502.000000</td>\n      <td>780502.000000</td>\n    </tr>\n    <tr>\n      <th>mean</th>\n      <td>12.623307</td>\n      <td>2010-12-26 01:08:30.093324288</td>\n      <td>6.140931</td>\n      <td>15313.393466</td>\n      <td>33.715373</td>\n    </tr>\n    <tr>\n      <th>min</th>\n      <td>-74215.000000</td>\n      <td>2009-12-01 07:45:00</td>\n      <td>0.000000</td>\n      <td>12346.000000</td>\n      <td>-127352.940000</td>\n    </tr>\n    <tr>\n      <th>25%</th>\n      <td>2.000000</td>\n      <td>2010-06-29 11:10:00</td>\n      <td>2.062500</td>\n      <td>13963.000000</td>\n      <td>7.260000</td>\n    </tr>\n    <tr>\n      <th>50%</th>\n      <td>5.000000</td>\n      <td>2010-11-28 13:40:00</td>\n      <td>3.217500</td>\n      <td>15239.000000</td>\n      <td>19.470000</td>\n    </tr>\n    <tr>\n      <th>75%</th>\n      <td>12.000000</td>\n      <td>2011-07-18 11:55:00</td>\n      <td>6.187500</td>\n      <td>16788.000000</td>\n      <td>32.175000</td>\n    </tr>\n    <tr>\n      <th>max</th>\n      <td>74215.000000</td>\n      <td>2011-11-30 17:42:00</td>\n      <td>64300.500000</td>\n      <td>18287.000000</td>\n      <td>127352.940000</td>\n    </tr>\n    <tr>\n      <th>std</th>\n      <td>143.906302</td>\n      <td>NaN</td>\n      <td>119.042266</td>\n      <td>1695.765797</td>\n      <td>274.207403</td>\n    </tr>\n  </tbody>\n</table>\n</div>"
     },
     "execution_count": 9,
     "metadata": {},
     "output_type": "execute_result"
    }
   ],
   "source": [
    "data.describe()"
   ]
  },
  {
   "cell_type": "markdown",
   "id": "domestic-bernard",
   "metadata": {
    "id": "domestic-bernard"
   },
   "source": [
    "## Pandas describe() 함수에 include='all' 인자 설정으로 수치형, 범주형 데이터 기본 통계량 확인"
   ]
  },
  {
   "cell_type": "code",
   "execution_count": 10,
   "id": "endangered-taiwan",
   "metadata": {
    "id": "endangered-taiwan",
    "outputId": "84a00b32-6d6e-4344-c538-1437d1c9dba0",
    "ExecuteTime": {
     "end_time": "2024-04-30T03:46:18.185446Z",
     "start_time": "2024-04-30T03:46:17.888941Z"
    }
   },
   "outputs": [
    {
     "data": {
      "text/plain": "       order_id product_id                         description       quantity  \\\ncount    780502     780502                              780502  780502.000000   \nunique    43955       4645                                5297            NaN   \ntop      576339     85123A  WHITE HANGING HEART T-LIGHT HOLDER            NaN   \nfreq        542       5096                                5096            NaN   \nmean        NaN        NaN                                 NaN      12.623307   \nmin         NaN        NaN                                 NaN  -74215.000000   \n25%         NaN        NaN                                 NaN       2.000000   \n50%         NaN        NaN                                 NaN       5.000000   \n75%         NaN        NaN                                 NaN      12.000000   \nmax         NaN        NaN                                 NaN   74215.000000   \nstd         NaN        NaN                                 NaN     143.906302   \n\n                           order_date          price    customer_id  \\\ncount                          780502  780502.000000  780502.000000   \nunique                            NaN            NaN            NaN   \ntop                               NaN            NaN            NaN   \nfreq                              NaN            NaN            NaN   \nmean    2010-12-26 01:08:30.093324288       6.140931   15313.393466   \nmin               2009-12-01 07:45:00       0.000000   12346.000000   \n25%               2010-06-29 11:10:00       2.062500   13963.000000   \n50%               2010-11-28 13:40:00       3.217500   15239.000000   \n75%               2011-07-18 11:55:00       6.187500   16788.000000   \nmax               2011-11-30 17:42:00   64300.500000   18287.000000   \nstd                               NaN     119.042266    1695.765797   \n\n               country          total  \ncount           780502  780502.000000  \nunique              41            NaN  \ntop     United Kingdom            NaN  \nfreq            700317            NaN  \nmean               NaN      33.715373  \nmin                NaN -127352.940000  \n25%                NaN       7.260000  \n50%                NaN      19.470000  \n75%                NaN      32.175000  \nmax                NaN  127352.940000  \nstd                NaN     274.207403  ",
      "text/html": "<div>\n<style scoped>\n    .dataframe tbody tr th:only-of-type {\n        vertical-align: middle;\n    }\n\n    .dataframe tbody tr th {\n        vertical-align: top;\n    }\n\n    .dataframe thead th {\n        text-align: right;\n    }\n</style>\n<table border=\"1\" class=\"dataframe\">\n  <thead>\n    <tr style=\"text-align: right;\">\n      <th></th>\n      <th>order_id</th>\n      <th>product_id</th>\n      <th>description</th>\n      <th>quantity</th>\n      <th>order_date</th>\n      <th>price</th>\n      <th>customer_id</th>\n      <th>country</th>\n      <th>total</th>\n    </tr>\n  </thead>\n  <tbody>\n    <tr>\n      <th>count</th>\n      <td>780502</td>\n      <td>780502</td>\n      <td>780502</td>\n      <td>780502.000000</td>\n      <td>780502</td>\n      <td>780502.000000</td>\n      <td>780502.000000</td>\n      <td>780502</td>\n      <td>780502.000000</td>\n    </tr>\n    <tr>\n      <th>unique</th>\n      <td>43955</td>\n      <td>4645</td>\n      <td>5297</td>\n      <td>NaN</td>\n      <td>NaN</td>\n      <td>NaN</td>\n      <td>NaN</td>\n      <td>41</td>\n      <td>NaN</td>\n    </tr>\n    <tr>\n      <th>top</th>\n      <td>576339</td>\n      <td>85123A</td>\n      <td>WHITE HANGING HEART T-LIGHT HOLDER</td>\n      <td>NaN</td>\n      <td>NaN</td>\n      <td>NaN</td>\n      <td>NaN</td>\n      <td>United Kingdom</td>\n      <td>NaN</td>\n    </tr>\n    <tr>\n      <th>freq</th>\n      <td>542</td>\n      <td>5096</td>\n      <td>5096</td>\n      <td>NaN</td>\n      <td>NaN</td>\n      <td>NaN</td>\n      <td>NaN</td>\n      <td>700317</td>\n      <td>NaN</td>\n    </tr>\n    <tr>\n      <th>mean</th>\n      <td>NaN</td>\n      <td>NaN</td>\n      <td>NaN</td>\n      <td>12.623307</td>\n      <td>2010-12-26 01:08:30.093324288</td>\n      <td>6.140931</td>\n      <td>15313.393466</td>\n      <td>NaN</td>\n      <td>33.715373</td>\n    </tr>\n    <tr>\n      <th>min</th>\n      <td>NaN</td>\n      <td>NaN</td>\n      <td>NaN</td>\n      <td>-74215.000000</td>\n      <td>2009-12-01 07:45:00</td>\n      <td>0.000000</td>\n      <td>12346.000000</td>\n      <td>NaN</td>\n      <td>-127352.940000</td>\n    </tr>\n    <tr>\n      <th>25%</th>\n      <td>NaN</td>\n      <td>NaN</td>\n      <td>NaN</td>\n      <td>2.000000</td>\n      <td>2010-06-29 11:10:00</td>\n      <td>2.062500</td>\n      <td>13963.000000</td>\n      <td>NaN</td>\n      <td>7.260000</td>\n    </tr>\n    <tr>\n      <th>50%</th>\n      <td>NaN</td>\n      <td>NaN</td>\n      <td>NaN</td>\n      <td>5.000000</td>\n      <td>2010-11-28 13:40:00</td>\n      <td>3.217500</td>\n      <td>15239.000000</td>\n      <td>NaN</td>\n      <td>19.470000</td>\n    </tr>\n    <tr>\n      <th>75%</th>\n      <td>NaN</td>\n      <td>NaN</td>\n      <td>NaN</td>\n      <td>12.000000</td>\n      <td>2011-07-18 11:55:00</td>\n      <td>6.187500</td>\n      <td>16788.000000</td>\n      <td>NaN</td>\n      <td>32.175000</td>\n    </tr>\n    <tr>\n      <th>max</th>\n      <td>NaN</td>\n      <td>NaN</td>\n      <td>NaN</td>\n      <td>74215.000000</td>\n      <td>2011-11-30 17:42:00</td>\n      <td>64300.500000</td>\n      <td>18287.000000</td>\n      <td>NaN</td>\n      <td>127352.940000</td>\n    </tr>\n    <tr>\n      <th>std</th>\n      <td>NaN</td>\n      <td>NaN</td>\n      <td>NaN</td>\n      <td>143.906302</td>\n      <td>NaN</td>\n      <td>119.042266</td>\n      <td>1695.765797</td>\n      <td>NaN</td>\n      <td>274.207403</td>\n    </tr>\n  </tbody>\n</table>\n</div>"
     },
     "execution_count": 10,
     "metadata": {},
     "output_type": "execute_result"
    }
   ],
   "source": [
    "data.describe(include='all')"
   ]
  },
  {
   "cell_type": "markdown",
   "id": "average-bicycle",
   "metadata": {
    "id": "average-bicycle"
   },
   "source": [
    "## 베이스라인 모델 함수\n",
    "- 머신러닝 모델 없이 입력 인자로 받은 연월의 이전 달 총 구매액을 구매 확률로 예측하는 베이스라인 모델 함수"
   ]
  },
  {
   "cell_type": "code",
   "execution_count": 11,
   "id": "corresponding-paste",
   "metadata": {
    "id": "corresponding-paste",
    "ExecuteTime": {
     "end_time": "2024-04-30T03:46:25.241950Z",
     "start_time": "2024-04-30T03:46:25.234055Z"
    }
   },
   "outputs": [],
   "source": [
    "'''\n",
    "    머신러닝 모델 없이 입력인자으로 받는 year_month의 이전 달 총 구매액을 구매 확률로 예측하는 베이스라인 모델\n",
    "'''\n",
    "def baseline_no_ml(df: pd.DataFrame, year_month: str, total_thres=TOTAL_THRES):\n",
    "    # year_month에 해당하는 label 데이터 생성\n",
    "    month = generate_label(df, year_month)\n",
    "\n",
    "    # year_month 이전 월 계산\n",
    "    d = datetime.datetime.strptime(year_month, \"%Y-%m\")\n",
    "    prev_d = d - dateutil.relativedelta.relativedelta(months=1)\n",
    "    prev_d = prev_d.strftime('%Y-%m')\n",
    "\n",
    "    # 이전 월에 해당하는 label 데이터 생성\n",
    "    previous_month = generate_label(df, prev_d)\n",
    "\n",
    "    # merge하기 위해 컬럼명 변경\n",
    "    previous_month = previous_month.rename(columns = {'total': 'previous_total'})\n",
    "\n",
    "    month = month.merge(previous_month[['customer_id', 'previous_total']], on = 'customer_id', how = 'left')\n",
    "\n",
    "    # 거래내역이 없는 고객의 구매액을 0으로 채움\n",
    "    month['previous_total'] = month['previous_total'].fillna(0)\n",
    "    # 이전 월의 총 구매액을 구매액 임계값으로 나눠서 예측 확률로 계산\n",
    "    month['probability'] = month['previous_total'] / total_thres\n",
    "\n",
    "    # 이전 월 총 구매액이 구매액 임계값을 넘어서 1보다 클 경우 예측 확률을 1로 변경\n",
    "    month.loc[month['probability'] > 1, 'probability'] = 1\n",
    "\n",
    "    # 이전 월 총 구매액이 마이너스(주문 환불)일 경우 예측 확률을 0으로 변경\n",
    "    month.loc[month['probability'] < 0, 'probability'] = 0\n",
    "\n",
    "    return month['probability']"
   ]
  },
  {
   "cell_type": "markdown",
   "id": "offensive-exchange",
   "metadata": {
    "id": "offensive-exchange"
   },
   "source": [
    "## 2011년 11월 Label 데이터 생성"
   ]
  },
  {
   "cell_type": "code",
   "execution_count": 12,
   "id": "integrated-truck",
   "metadata": {
    "id": "integrated-truck",
    "ExecuteTime": {
     "end_time": "2024-04-30T03:46:30.873623Z",
     "start_time": "2024-04-30T03:46:28.058730Z"
    }
   },
   "outputs": [],
   "source": [
    "label_2011_11 = generate_label(data, '2011-11')['label']"
   ]
  },
  {
   "cell_type": "markdown",
   "id": "accessible-assets",
   "metadata": {
    "id": "accessible-assets"
   },
   "source": [
    "## Label 데이터 분포 플롯"
   ]
  },
  {
   "cell_type": "code",
   "execution_count": 16,
   "id": "round-bride",
   "metadata": {
    "id": "round-bride",
    "outputId": "d82393f8-45b4-48b6-8b05-a58dbc2c7a27",
    "ExecuteTime": {
     "end_time": "2024-04-30T03:48:43.975244Z",
     "start_time": "2024-04-30T03:47:59.355816Z"
    }
   },
   "outputs": [
    {
     "data": {
      "text/plain": "label\n0    4534\n1    1188\nName: count, dtype: int64"
     },
     "execution_count": 16,
     "metadata": {},
     "output_type": "execute_result"
    },
    {
     "data": {
      "text/plain": "<Figure size 640x480 with 1 Axes>",
      "image/png": "[encoded data removed]"
     },
     "metadata": {},
     "output_type": "display_data"
    }
   ],
   "source": [
    "sns.countplot(label_2011_11);\n",
    "label_2011_11.value_counts()"
   ]
  },
  {
   "cell_type": "markdown",
   "id": "signed-wilderness",
   "metadata": {
    "id": "signed-wilderness"
   },
   "source": [
    "## 2011년 11월 베이스라인 모델 예측\n",
    "- Validation 성능 측정"
   ]
  },
  {
   "cell_type": "code",
   "execution_count": 14,
   "id": "critical-blake",
   "metadata": {
    "id": "critical-blake",
    "outputId": "c2aa9a3a-e82e-40d2-86e3-00f53d364f58",
    "ExecuteTime": {
     "end_time": "2024-04-30T03:47:49.908455Z",
     "start_time": "2024-04-30T03:47:44.604066Z"
    }
   },
   "outputs": [
    {
     "name": "stdout",
     "output_type": "stream",
     "text": [
      "Precision: 0.42468\n",
      "Recall: 0.39394\n",
      "F1 Score: 0.40873\n",
      "ROC AUC Score: 0.63010\n"
     ]
    }
   ],
   "source": [
    "test_preds_2011_11 = baseline_no_ml(data, '2011-11')\n",
    "print_score(label_2011_11, test_preds_2011_11)"
   ]
  },
  {
   "cell_type": "markdown",
   "id": "equivalent-booth",
   "metadata": {
    "id": "equivalent-booth"
   },
   "source": [
    "## 2011년 11월 베이스라인 모델 예측 데이터 분포"
   ]
  },
  {
   "cell_type": "code",
   "execution_count": 15,
   "id": "basic-quarterly",
   "metadata": {
    "id": "basic-quarterly",
    "outputId": "74981202-4a7d-4479-b56f-385e957ae1ea",
    "ExecuteTime": {
     "end_time": "2024-04-30T03:47:53.077639Z",
     "start_time": "2024-04-30T03:47:52.881708Z"
    }
   },
   "outputs": [
    {
     "data": {
      "text/plain": "<Figure size 640x480 with 1 Axes>",
      "image/png": "[encoded data removed]"
     },
     "metadata": {},
     "output_type": "display_data"
    }
   ],
   "source": [
    "sns.distplot(test_preds_2011_11)\n",
    "plt.show()"
   ]
  },
  {
   "cell_type": "markdown",
   "id": "engaging-curtis",
   "metadata": {
    "id": "engaging-curtis"
   },
   "source": [
    "## 2011년 12월 베이스라인 모델 예측\n",
    "- 테스트 데이터 제출"
   ]
  },
  {
   "cell_type": "code",
   "execution_count": 17,
   "id": "hungarian-taste",
   "metadata": {
    "id": "hungarian-taste",
    "ExecuteTime": {
     "end_time": "2024-04-30T03:49:30.436451Z",
     "start_time": "2024-04-30T03:49:25.306257Z"
    }
   },
   "outputs": [],
   "source": [
    "test_preds = baseline_no_ml(data, '2011-12')"
   ]
  },
  {
   "cell_type": "markdown",
   "id": "individual-imperial",
   "metadata": {
    "id": "individual-imperial"
   },
   "source": [
    "## 2011년 12월 베이스라인 모델 예측 데이터 분포"
   ]
  },
  {
   "cell_type": "code",
   "execution_count": null,
   "id": "wound-girlfriend",
   "metadata": {
    "id": "wound-girlfriend",
    "outputId": "10cd9bc5-2342-4cb6-e1d1-587a9759865a"
   },
   "outputs": [
    {
     "data": {
      "image/png": "[encoded data removed]",
      "text/plain": [
       "<Figure size 432x288 with 1 Axes>"
      ]
     },
     "metadata": {
      "needs_background": "light"
     },
     "output_type": "display_data"
    }
   ],
   "source": [
    "sns.distplot(test_preds)\n",
    "plt.show()"
   ]
  },
  {
   "cell_type": "markdown",
   "id": "47dfc49a",
   "metadata": {
    "id": "47dfc49a"
   },
   "source": [
    "## Submit predicted file"
   ]
  },
  {
   "cell_type": "code",
   "execution_count": null,
   "id": "interior-helen",
   "metadata": {
    "id": "interior-helen"
   },
   "outputs": [],
   "source": [
    "output_dir = '../output'\n",
    "os.makedirs(output_dir, exist_ok=True)\n",
    "test_preds.to_csv(os.path.join(output_dir, 'output.csv'), index=False)"
   ]
  },
  {
   "cell_type": "markdown",
   "id": "95abba2d",
   "metadata": {
    "id": "95abba2d"
   },
   "source": [
    "ALL RIGHTS RESERVED. (C)NAVER Connect Foundation."
   ]
  }
 ],
 "metadata": {
  "hide_input": false,
  "kernelspec": {
   "display_name": "Python 3 (ipykernel)",
   "language": "python",
   "name": "python3"
  },
  "language_info": {
   "codemirror_mode": {
    "name": "ipython",
    "version": 3
   },
   "file_extension": ".py",
   "mimetype": "text/x-python",
   "name": "python",
   "nbconvert_exporter": "python",
   "pygments_lexer": "ipython3",
   "version": "3.8.1"
  },
  "toc": {
   "base_numbering": 1,
   "nav_menu": {},
   "number_sections": true,
   "sideBar": true,
   "skip_h1_title": false,
   "title_cell": "Table of Contents",
   "title_sidebar": "Contents",
   "toc_cell": false,
   "toc_position": {},
   "toc_section_display": true,
   "toc_window_display": false
  },
  "colab": {
   "provenance": []
  }
 },
 "nbformat": 4,
 "nbformat_minor": 5
}
