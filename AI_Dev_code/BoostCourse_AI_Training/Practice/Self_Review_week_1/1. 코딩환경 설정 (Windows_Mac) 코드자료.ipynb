{
 "nbformat": 4,
 "nbformat_minor": 0,
 "metadata": {
  "colab": {
   "provenance": [],
   "toc_visible": true,
   "authorship_tag": "ABX9TyND8bFe5kBPZliHIxjcJzmb"
  },
  "kernelspec": {
   "name": "python3",
   "language": "python",
   "display_name": "Python 3 (ipykernel)"
  },
  "language_info": {
   "name": "python"
  }
 },
 "cells": [
  {
   "cell_type": "markdown",
   "source": [
    "# [셀프리뷰 프로젝트] 1. 코딩환경 설정 (Windows/Mac)\n",
    "\n",
    "✔︎ 이번 프로젝트의 진행방식은 다음과 같습니다 :\n",
    "\n",
    "- '셀프리뷰 프로젝트'는 코치의 리뷰를 거치지 않는 프로젝트입니다.\n",
    "- 첨부된 파일에 안내된 절차에 따라 최소 5~10줄 이내의 간단한 코드를 작성함으로 스스로의 실력을 체크할 수 있습니다.\n",
    "- 프로젝트 수행 결과 화면을 캡처 및 제출시, 담당코치가 훈련생 분의 학습현황을 파악하고 채점을 진행합니다.\n",
    "\n",
    "\n",
    "✔︎ 프로젝트 수행에 어려움을 겪고 있다면?\n",
    "\n",
    "- 만약 프로젝트 수행에 어려움을 겪고 있거나 제출을 끝냈다면, 코치 1:1 문의를 통해 예시 정답을 요청해 보세요.\n",
    "- 웍스 내 자유게시판을 통해 다른 훈련생들과 문제점을 공유하고 해결방안을 도모하는 것도 좋은 방법입니다."
   ],
   "metadata": {
    "id": "qtWWrC1pXODn"
   }
  },
  {
   "cell_type": "markdown",
   "source": [
    "## 1. 가상환경 준비하기\n",
    "\n"
   ],
   "metadata": {
    "id": "Tf4J3U8qXzTH"
   }
  },
  {
   "cell_type": "code",
   "source": [
    "# 파이썬 프로그래밍을 하기 위한 런타임 환경을 구성합니다.\n",
    "# 코드 편집기 또는 IDE를 통해 코드 작성을 준비합니다."
   ],
   "metadata": {
    "id": "2MRCwiTuY3ha"
   },
   "execution_count": null,
   "outputs": []
  },
  {
   "cell_type": "code",
   "execution_count": 1,
   "metadata": {
    "id": "4JzBx-ynXNX1",
    "ExecuteTime": {
     "end_time": "2024-04-23T05:52:43.492040Z",
     "start_time": "2024-04-23T05:52:43.485821Z"
    }
   },
   "outputs": [
    {
     "name": "stdout",
     "output_type": "stream",
     "text": [
      "3.12.2 (tags/v3.12.2:6abddd9, Feb  6 2024, 21:26:36) [MSC v.1937 64 bit (AMD64)]\n"
     ]
    }
   ],
   "source": [
    "# sys 모듈을 통해 현재 파이썬 버전을 확인해보세요.\n",
    "import sys\n",
    "print(sys.version)"
   ]
  },
  {
   "cell_type": "markdown",
   "source": [
    "## 2. 실행환경 점검하기"
   ],
   "metadata": {
    "id": "fLWBFBVdYO-w"
   }
  },
  {
   "cell_type": "markdown",
   "source": [
    "### [TODO] 1_ csv 파일 불러오기"
   ],
   "metadata": {
    "id": "JZEwnj6Z-qxu"
   }
  },
  {
   "cell_type": "code",
   "source": [
    "# 주어진 csv 파일을 불러와 내용을 출력해보세요.\n",
    "import pandas as pd\n",
    "\n",
    "## 코드시작 ##\n",
    "\n",
    "df = pd.read_csv('./zen of python.csv')\n",
    "\n",
    "## 코드종료 ##\n",
    "print(df)"
   ],
   "metadata": {
    "id": "1fDsp_6j18Xi",
    "ExecuteTime": {
     "end_time": "2024-04-23T05:53:54.544783Z",
     "start_time": "2024-04-23T05:53:54.536681Z"
    }
   },
   "execution_count": 3,
   "outputs": [
    {
     "name": "stdout",
     "output_type": "stream",
     "text": [
      "                         Zen of Python, by Tim Peters  \\\n",
      "0                      Beautiful is better than ugly.   \n",
      "1                   Explicit is better than implicit.   \n",
      "2                      Simple is better than complex.   \n",
      "3                 Complex is better than complicated.   \n",
      "4                         Flat is better than nested.   \n",
      "5                        Sparse is better than dense.   \n",
      "6                                 Readability counts.   \n",
      "7   Special cases aren't special enough to break t...   \n",
      "8                 Although practicality beats purity.   \n",
      "9                  Errors should never pass silently.   \n",
      "10                        Unless explicitly silenced.   \n",
      "11  In the face of ambiguity, refuse the temptatio...   \n",
      "12  There should be one-- and preferably only one ...   \n",
      "13  Although that way may not be obvious at first ...   \n",
      "14                          Now is better than never.   \n",
      "15     Although never is often better than right now.   \n",
      "16  If the implementation is hard to explain, it's...   \n",
      "17  If the implementation is easy to explain, it m...   \n",
      "18  Namespaces are one honking great idea -- let's...   \n",
      "\n",
      "                                파이썬의 선, 팀 피터슨  \n",
      "0                        아름다운것이 못생긴 것보다 좋습니다.  \n",
      "1                      명시적인 것이 암시적인 것보다 좋습니다.  \n",
      "2                        단순한 것이 복잡한 것보다 좋습니다.  \n",
      "3                        복잡한 것이 난해한 것보다 좋습니다.  \n",
      "4                       단조로운 것이 중첩된 것보다 좋습니다.  \n",
      "5                         여유로움이 밀집된 것보다 좋습니다.  \n",
      "6                                 가독성은 중요합니다.  \n",
      "7            특별한 상황이, 규칙을 깰 만큼 특별하단 얘기는 아닙니다.  \n",
      "8                     비록 실용성이 이상을 능가한다 할지라도요.  \n",
      "9                         오류는 조용히 넘어가서는 안됩니다.  \n",
      "10                          알고도 침묵하지 않는 한에서요.  \n",
      "11                    모호한 상황이라면, 추측하려 하지 마세요.  \n",
      "12  문제를 해결할 하나의 - 바람직하고 유일한 - 명백한 방법이 있을 것이다.  \n",
      "13      비록 당신이 우둔해서 처음에는 명백해 보이지 않을 수도 있겠지만요.  \n",
      "14                  지금 하는 것이 전혀 안하는 것보다 좋습니다.  \n",
      "15           비록 하지않는 것이 지금 하는 것보다 나을 때도 있지만요.  \n",
      "16         구현 방식이 설명하기 어렵다면, 그것은 좋지 않은 생각입니다.  \n",
      "17        구현 방식이 설명하기 쉽다면, 그것은 아마 좋은 생각일 겁니다.  \n",
      "18      Namespaces는 쩌는 생각입니다. 더욱 이런 것들을 해봅시다!  \n"
     ]
    }
   ]
  },
  {
   "cell_type": "markdown",
   "source": [
    "### [TODO] 2_ 코드 구현하기"
   ],
   "metadata": {
    "id": "nHSHaqH--u6p"
   }
  },
  {
   "cell_type": "code",
   "source": [
    "# 1. range() 함수를 사용해 1부터 n까지의 합을 구하는 함수를 만드세요.\n",
    "# hint! for 문을 이용하여 작성합니다.\n",
    "\n",
    "## 코드시작 ##\n",
    "num = int(input()) #10\n",
    "value = []\n",
    "for i in range(1,num+1):\n",
    "    value.append(i)\n",
    "answer = sum(value)\n",
    "\n",
    "\n",
    "\n",
    "## 코드종료 ##\n",
    "print(answer)"
   ],
   "metadata": {
    "id": "S-QSX6tUf69n",
    "ExecuteTime": {
     "end_time": "2024-04-23T06:25:16.186990Z",
     "start_time": "2024-04-23T06:25:14.545999Z"
    }
   },
   "execution_count": 1,
   "outputs": [
    {
     "name": "stdout",
     "output_type": "stream",
     "text": [
      "55\n"
     ]
    }
   ]
  },
  {
   "cell_type": "code",
   "source": [
    "# 2. 다음은 OO대학교 학생들의 수학 성적입니다. 성적의 평균을 구하세요.\n",
    "\n",
    "scores = [85, 90, 100, 70, 65, 80, 75]\n",
    "plus = 0\n",
    "average = 0\n",
    "\n",
    "## 코드시작 ##\n",
    "for i in scores:\n",
    "    plus += i\n",
    "    \n",
    "average = plus / len(scores)\n",
    "## 코드종료 ##\n",
    "\n",
    "print(average)"
   ],
   "metadata": {
    "id": "AZBa2HT7lCYJ",
    "ExecuteTime": {
     "end_time": "2024-04-23T06:22:58.554146Z",
     "start_time": "2024-04-23T06:22:58.545970Z"
    }
   },
   "execution_count": 47,
   "outputs": [
    {
     "name": "stdout",
     "output_type": "stream",
     "text": [
      "80.71428571428571\n"
     ]
    }
   ]
  },
  {
   "cell_type": "code",
   "source": [
    "# 3. numpy 라이브러리를 활용하여 크기가 10인 랜덤 벡터를 만들고, 그 평균값을 구하세요.\n",
    "\n",
    "import numpy as np\n",
    "## 코드시작 ##\n",
    "vector = np.random.random(10)\n",
    "print(vector)\n",
    "\n",
    "## 코드종료 ##\n",
    "np.average(vector)"
   ],
   "metadata": {
    "id": "Hak-veprrRjT",
    "ExecuteTime": {
     "end_time": "2024-04-23T06:05:07.031233Z",
     "start_time": "2024-04-23T06:05:07.018646Z"
    }
   },
   "execution_count": 23,
   "outputs": [
    {
     "name": "stdout",
     "output_type": "stream",
     "text": [
      "[0.03995921 0.42949218 0.31492687 0.63649114 0.34634715 0.04309736\n",
      " 0.87991517 0.76324059 0.87809664 0.41750914]\n"
     ]
    },
    {
     "data": {
      "text/plain": "0.4749075456542598"
     },
     "execution_count": 23,
     "metadata": {},
     "output_type": "execute_result"
    }
   ]
  },
  {
   "cell_type": "code",
   "source": [
    "# 4. numpy 라이브러리를 활용하여 5X5 배열을 만들고, 첫번째 행과 두번째 행의 위치를 바꾸어보세요.\n",
    "\n",
    "## 코드시작 ##\n",
    "\n",
    "# 5x5 배열 생성\n",
    "vector = np.array([np.arange(5),np.arange(5,10),np.arange(10,15),np.arange(15,20),np.arange(20,25)])\n",
    "\n",
    "#임시 보관용 함수 생성\n",
    "stay = np.array(vector[0])\n",
    "\n",
    "#행 위치 변환\n",
    "vector[0] = vector[1]\n",
    "vector[1] = stay\n",
    "\n",
    "\n",
    "## 코드종료 ##\n",
    "print(vector)"
   ],
   "metadata": {
    "id": "In_gRmb8slfb",
    "ExecuteTime": {
     "end_time": "2024-04-23T06:13:15.010067Z",
     "start_time": "2024-04-23T06:13:14.999758Z"
    }
   },
   "execution_count": 36,
   "outputs": [
    {
     "name": "stdout",
     "output_type": "stream",
     "text": [
      "[[ 5  6  7  8  9]\n",
      " [ 0  1  2  3  4]\n",
      " [10 11 12 13 14]\n",
      " [15 16 17 18 19]\n",
      " [20 21 22 23 24]]\n"
     ]
    }
   ]
  },
  {
   "cell_type": "code",
   "source": [
    "# 5. numpy 라이브러리를 활용해 다음 두 배열의 유클리드 거리를 구해보세요.\n",
    "import numpy as np\n",
    "a = np.array([1,2])\n",
    "b = np.array([4,5])\n",
    "\n",
    "## 코드시작 ##\n",
    "\n",
    "distance = np.sqrt(sum((a-b)**2))\n",
    "\n",
    "## 코드종료 ##\n",
    "\n",
    "print(\"두 배열 사이의 거리 :\", distance)"
   ],
   "metadata": {
    "id": "rfYN29Nuwr1y",
    "ExecuteTime": {
     "end_time": "2024-04-23T06:25:35.710925Z",
     "start_time": "2024-04-23T06:25:35.582594Z"
    }
   },
   "execution_count": 3,
   "outputs": [
    {
     "name": "stdout",
     "output_type": "stream",
     "text": [
      "두 배열 사이의 거리 : 4.242640687119285\n"
     ]
    }
   ]
  },
  {
   "cell_type": "markdown",
   "source": [
    "## 3. 셀프리뷰 진행하기\n",
    "\n",
    "- 수행한 프로젝트 내용을 확인하고, 셀프리뷰를 진행합니다.\n",
    "- 내가 작성한 코드에 오류는 없는지 또는 더 나은 방법은 없는지 고민해 봅니다.\n",
    "- 리뷰를 완료했다면, 실행 결과 화면을 캡쳐 및 제출하여 수행여부를 증빙합니다. (파일첨부 NO! 본문에 이미지 삽입 YES!)\n",
    "- 이번 차시에 궁금한 점이 있다면, 제출시 본문에 내용을 함께 작성하여 제출할 수 있습니다."
   ],
   "metadata": {
    "id": "KcbtjRcC0l_X"
   }
  },
  {
   "cell_type": "markdown",
   "source": [
    "ALL RIGHTS RESERVED. ⓒNAVER Connect Foundation."
   ],
   "metadata": {
    "id": "ZqyoAUle1HhO"
   }
  }
 ]
}
