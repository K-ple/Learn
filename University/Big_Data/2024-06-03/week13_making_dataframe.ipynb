{
 "cells": [
  {
   "cell_type": "code",
   "execution_count": 1,
   "id": "initial_id",
   "metadata": {
    "collapsed": true,
    "ExecuteTime": {
     "end_time": "2024-06-03T05:36:19.544640Z",
     "start_time": "2024-06-03T05:36:17.611480Z"
    }
   },
   "outputs": [],
   "source": [
    "import pandas as pd\n",
    "import numpy as np\n",
    "import matplotlib.pyplot as plt"
   ]
  },
  {
   "cell_type": "code",
   "outputs": [],
   "source": [
    "sales = [{'account': 'jones LLC', 'Jan': 150, 'Feb' : 200 , 'Mar' : 140},\n",
    "         {'account': 'Alpha Co', 'Jan': 200, 'Feb' : 210, 'Mar': 215},\n",
    "         {'account': 'Blue Inc', 'Jan':50, 'Feb' : 90, 'Mar' :95}]\n",
    "df = pd.DataFrame(sales)"
   ],
   "metadata": {
    "collapsed": false,
    "ExecuteTime": {
     "end_time": "2024-06-03T05:36:45.168789Z",
     "start_time": "2024-06-03T05:36:45.132766Z"
    }
   },
   "id": "7a45b37585c06d99",
   "execution_count": 2
  },
  {
   "cell_type": "code",
   "outputs": [
    {
     "data": {
      "text/plain": "     account  Jan  Feb  Mar\n0  jones LLC  150  200  140\n1   Alpha Co  200  210  215\n2   Blue Inc   50   90   95",
      "text/html": "<div>\n<style scoped>\n    .dataframe tbody tr th:only-of-type {\n        vertical-align: middle;\n    }\n\n    .dataframe tbody tr th {\n        vertical-align: top;\n    }\n\n    .dataframe thead th {\n        text-align: right;\n    }\n</style>\n<table border=\"1\" class=\"dataframe\">\n  <thead>\n    <tr style=\"text-align: right;\">\n      <th></th>\n      <th>account</th>\n      <th>Jan</th>\n      <th>Feb</th>\n      <th>Mar</th>\n    </tr>\n  </thead>\n  <tbody>\n    <tr>\n      <th>0</th>\n      <td>jones LLC</td>\n      <td>150</td>\n      <td>200</td>\n      <td>140</td>\n    </tr>\n    <tr>\n      <th>1</th>\n      <td>Alpha Co</td>\n      <td>200</td>\n      <td>210</td>\n      <td>215</td>\n    </tr>\n    <tr>\n      <th>2</th>\n      <td>Blue Inc</td>\n      <td>50</td>\n      <td>90</td>\n      <td>95</td>\n    </tr>\n  </tbody>\n</table>\n</div>"
     },
     "execution_count": 3,
     "metadata": {},
     "output_type": "execute_result"
    }
   ],
   "source": [
    "df"
   ],
   "metadata": {
    "collapsed": false,
    "ExecuteTime": {
     "end_time": "2024-06-03T05:36:49.472090Z",
     "start_time": "2024-06-03T05:36:49.438759Z"
    }
   },
   "id": "af7d37f67adb7368",
   "execution_count": 3
  }
 ],
 "metadata": {
  "kernelspec": {
   "display_name": "Python 3",
   "language": "python",
   "name": "python3"
  },
  "language_info": {
   "codemirror_mode": {
    "name": "ipython",
    "version": 2
   },
   "file_extension": ".py",
   "mimetype": "text/x-python",
   "name": "python",
   "nbconvert_exporter": "python",
   "pygments_lexer": "ipython2",
   "version": "2.7.6"
  }
 },
 "nbformat": 4,
 "nbformat_minor": 5
}
