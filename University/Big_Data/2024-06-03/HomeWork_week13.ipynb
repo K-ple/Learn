{
 "cells": [
  {
   "cell_type": "code",
   "execution_count": 3,
   "id": "initial_id",
   "metadata": {
    "collapsed": true,
    "ExecuteTime": {
     "end_time": "2024-06-06T04:03:09.733411Z",
     "start_time": "2024-06-06T04:03:09.727860Z"
    }
   },
   "outputs": [],
   "source": [
    "import pandas as pd\n",
    "import numpy as np"
   ]
  },
  {
   "cell_type": "code",
   "outputs": [
    {
     "data": {
      "text/plain": "     account  Jan  Feb  Mar\n0  jones LLC  150  200  140\n1   Alpha Co  200  210  215\n2   Blue Inc   50   90   95",
      "text/html": "<div>\n<style scoped>\n    .dataframe tbody tr th:only-of-type {\n        vertical-align: middle;\n    }\n\n    .dataframe tbody tr th {\n        vertical-align: top;\n    }\n\n    .dataframe thead th {\n        text-align: right;\n    }\n</style>\n<table border=\"1\" class=\"dataframe\">\n  <thead>\n    <tr style=\"text-align: right;\">\n      <th></th>\n      <th>account</th>\n      <th>Jan</th>\n      <th>Feb</th>\n      <th>Mar</th>\n    </tr>\n  </thead>\n  <tbody>\n    <tr>\n      <th>0</th>\n      <td>jones LLC</td>\n      <td>150</td>\n      <td>200</td>\n      <td>140</td>\n    </tr>\n    <tr>\n      <th>1</th>\n      <td>Alpha Co</td>\n      <td>200</td>\n      <td>210</td>\n      <td>215</td>\n    </tr>\n    <tr>\n      <th>2</th>\n      <td>Blue Inc</td>\n      <td>50</td>\n      <td>90</td>\n      <td>95</td>\n    </tr>\n  </tbody>\n</table>\n</div>"
     },
     "execution_count": 4,
     "metadata": {},
     "output_type": "execute_result"
    }
   ],
   "source": [
    "sales = [{'account': 'jones LLC', 'Jan': 150, 'Feb' : 200 , 'Mar' : 140},\n",
    "         {'account': 'Alpha Co', 'Jan': 200, 'Feb' : 210, 'Mar': 215},\n",
    "         {'account': 'Blue Inc', 'Jan':50, 'Feb' : 90, 'Mar' :95}]\n",
    "df = pd.DataFrame(sales)\n",
    "df"
   ],
   "metadata": {
    "collapsed": false,
    "ExecuteTime": {
     "end_time": "2024-06-06T04:03:10.463030Z",
     "start_time": "2024-06-06T04:03:10.440274Z"
    }
   },
   "id": "3e5d13b407f3627",
   "execution_count": 4
  },
  {
   "cell_type": "code",
   "outputs": [
    {
     "data": {
      "text/plain": "     account  Jan  Feb  Mar\n0  jones LLC  150  200  140\n1   Alpha Co  200  210  215\n2   Blue Inc   50   90   95",
      "text/html": "<div>\n<style scoped>\n    .dataframe tbody tr th:only-of-type {\n        vertical-align: middle;\n    }\n\n    .dataframe tbody tr th {\n        vertical-align: top;\n    }\n\n    .dataframe thead th {\n        text-align: right;\n    }\n</style>\n<table border=\"1\" class=\"dataframe\">\n  <thead>\n    <tr style=\"text-align: right;\">\n      <th></th>\n      <th>account</th>\n      <th>Jan</th>\n      <th>Feb</th>\n      <th>Mar</th>\n    </tr>\n  </thead>\n  <tbody>\n    <tr>\n      <th>0</th>\n      <td>jones LLC</td>\n      <td>150</td>\n      <td>200</td>\n      <td>140</td>\n    </tr>\n    <tr>\n      <th>1</th>\n      <td>Alpha Co</td>\n      <td>200</td>\n      <td>210</td>\n      <td>215</td>\n    </tr>\n    <tr>\n      <th>2</th>\n      <td>Blue Inc</td>\n      <td>50</td>\n      <td>90</td>\n      <td>95</td>\n    </tr>\n  </tbody>\n</table>\n</div>"
     },
     "execution_count": 5,
     "metadata": {},
     "output_type": "execute_result"
    }
   ],
   "source": [
    "labels = ['account', 'Jan', 'Feb', 'Mar']\n",
    "sales = [('jones LLC',150,200,140),('Alpha Co',200,210,215),('Blue Inc',50,90,95)]\n",
    "df = pd.DataFrame.from_records(sales, columns=labels)\n",
    "df"
   ],
   "metadata": {
    "collapsed": false,
    "ExecuteTime": {
     "end_time": "2024-06-06T04:03:11.474313Z",
     "start_time": "2024-06-06T04:03:11.464180Z"
    }
   },
   "id": "38c5dd1dde69293b",
   "execution_count": 5
  },
  {
   "cell_type": "code",
   "outputs": [
    {
     "data": {
      "text/plain": "     account  Jan  Feb  Mar\n0  jones LLC  150  200  140\n1   Alpha Co  200  210  215\n2   Blue Inc   50   90   95",
      "text/html": "<div>\n<style scoped>\n    .dataframe tbody tr th:only-of-type {\n        vertical-align: middle;\n    }\n\n    .dataframe tbody tr th {\n        vertical-align: top;\n    }\n\n    .dataframe thead th {\n        text-align: right;\n    }\n</style>\n<table border=\"1\" class=\"dataframe\">\n  <thead>\n    <tr style=\"text-align: right;\">\n      <th></th>\n      <th>account</th>\n      <th>Jan</th>\n      <th>Feb</th>\n      <th>Mar</th>\n    </tr>\n  </thead>\n  <tbody>\n    <tr>\n      <th>0</th>\n      <td>jones LLC</td>\n      <td>150</td>\n      <td>200</td>\n      <td>140</td>\n    </tr>\n    <tr>\n      <th>1</th>\n      <td>Alpha Co</td>\n      <td>200</td>\n      <td>210</td>\n      <td>215</td>\n    </tr>\n    <tr>\n      <th>2</th>\n      <td>Blue Inc</td>\n      <td>50</td>\n      <td>90</td>\n      <td>95</td>\n    </tr>\n  </tbody>\n</table>\n</div>"
     },
     "execution_count": 6,
     "metadata": {},
     "output_type": "execute_result"
    }
   ],
   "source": [
    "sales = {'account': ['jones LLC', 'Alpha Co', 'Blue Inc'],'Jan':[150,200,50],'Feb':[200,210,90],'Mar':[140,215,95]}\n",
    "df = pd.DataFrame.from_dict(sales)\n",
    "df"
   ],
   "metadata": {
    "collapsed": false,
    "ExecuteTime": {
     "end_time": "2024-06-06T04:03:12.101022Z",
     "start_time": "2024-06-06T04:03:12.092659Z"
    }
   },
   "id": "601bd98aa49b1f5",
   "execution_count": 6
  },
  {
   "cell_type": "code",
   "outputs": [
    {
     "data": {
      "text/plain": "         0                                1\n0  account  [jones LLC, Alpha Co, Blue Inc]\n1      Jan                   [150, 200, 50]\n2      Feb                  [200, 210, 215]\n3      Mar                   [140, 215, 95]",
      "text/html": "<div>\n<style scoped>\n    .dataframe tbody tr th:only-of-type {\n        vertical-align: middle;\n    }\n\n    .dataframe tbody tr th {\n        vertical-align: top;\n    }\n\n    .dataframe thead th {\n        text-align: right;\n    }\n</style>\n<table border=\"1\" class=\"dataframe\">\n  <thead>\n    <tr style=\"text-align: right;\">\n      <th></th>\n      <th>0</th>\n      <th>1</th>\n    </tr>\n  </thead>\n  <tbody>\n    <tr>\n      <th>0</th>\n      <td>account</td>\n      <td>[jones LLC, Alpha Co, Blue Inc]</td>\n    </tr>\n    <tr>\n      <th>1</th>\n      <td>Jan</td>\n      <td>[150, 200, 50]</td>\n    </tr>\n    <tr>\n      <th>2</th>\n      <td>Feb</td>\n      <td>[200, 210, 215]</td>\n    </tr>\n    <tr>\n      <th>3</th>\n      <td>Mar</td>\n      <td>[140, 215, 95]</td>\n    </tr>\n  </tbody>\n</table>\n</div>"
     },
     "execution_count": 8,
     "metadata": {},
     "output_type": "execute_result"
    }
   ],
   "source": [
    "sales = [('account',['jones LLC', 'Alpha Co', 'Blue Inc']),('Jan',[150,200,50]),('Feb',[200,210,215]),('Mar',[140,215,95])]\n",
    "df = pd.DataFrame.from_dict(sales)\n",
    "df"
   ],
   "metadata": {
    "collapsed": false,
    "ExecuteTime": {
     "end_time": "2024-06-06T04:03:48.361822Z",
     "start_time": "2024-06-06T04:03:48.339945Z"
    }
   },
   "id": "8512ac40aeaee1d4",
   "execution_count": 8
  },
  {
   "cell_type": "code",
   "outputs": [
    {
     "name": "stdout",
     "output_type": "stream",
     "text": [
      "https://restcountries.com/v3.1/name/South Korea\n",
      "[{\"name\":{\"common\":\"South Korea\",\"official\":\"Republic of Korea\",\"nativeName\":{\"kor\":{\"official\":\"대한민국\",\"common\":\"한국\"}}},\"tld\":[\".kr\",\".한국\"],\"cca2\":\"KR\",\"ccn3\":\"410\",\"cca3\":\"KOR\",\"cioc\":\"KOR\",\"independent\":true,\"status\":\"officially-assigned\",\"unMember\":true,\"currencies\":{\"KRW\":{\"name\":\"South Korean won\",\"symbol\":\"₩\"}},\"idd\":{\"root\":\"+8\",\"suffixes\":[\"2\"]},\"capital\":[\"Seoul\"],\"altSpellings\":[\"KR\",\"Korea, Republic of\",\"Republic of Korea\",\"남한\",\"남조선\"],\"region\":\"Asia\",\"subregion\":\"Eastern Asia\",\"languages\":{\"kor\":\"Korean\"},\"translations\":{\"ara\":{\"official\":\"جمهورية كوريا\",\"common\":\"كوريا الجنوبية\"},\"bre\":{\"official\":\"Republik Korea\",\"common\":\"Korea ar Su\"},\"ces\":{\"official\":\"Korejská republika\",\"common\":\"Jižní Korea\"},\"cym\":{\"official\":\"Republic of Korea\",\"common\":\"South Korea\"},\"deu\":{\"official\":\"Republik Korea\",\"common\":\"Südkorea\"},\"est\":{\"official\":\"Korea Vabariik\",\"common\":\"Lõuna-Korea\"},\"fin\":{\"official\":\"Korean tasavalta\",\"common\":\"Etelä-Korea\"},\"fra\":{\"official\":\"République de Corée\",\"common\":\"Corée du Sud\"},\"hrv\":{\"official\":\"Republika Koreja\",\"common\":\"Južna Koreja\"},\"hun\":{\"official\":\"Koreai Köztársaság\",\"common\":\"Dél-Korea\"},\"ita\":{\"official\":\"Repubblica di Corea\",\"common\":\"Corea del Sud\"},\"jpn\":{\"official\":\"大韓民国\",\"common\":\"韓国\"},\"kor\":{\"official\":\"대한민국\",\"common\":\"한국\"},\"nld\":{\"official\":\"Republiek Korea\",\"common\":\"Zuid-Korea\"},\"per\":{\"official\":\"جمهوری کره\",\"common\":\"کرهٔ جنوبی\"},\"pol\":{\"official\":\"Republika Korei\",\"common\":\"Korea Południowa\"},\"por\":{\"official\":\"República da Coreia\",\"common\":\"Coreia do Sul\"},\"rus\":{\"official\":\"Республика Корея\",\"common\":\"Южная Корея\"},\"slk\":{\"official\":\"Kórejská republika\",\"common\":\"Južná Kórea\"},\"spa\":{\"official\":\"República de Corea\",\"common\":\"Corea del Sur\"},\"srp\":{\"official\":\"Република Кореја\",\"common\":\"Јужна Кореја\"},\"swe\":{\"official\":\"Republiken Korea\",\"common\":\"Sydkorea\"},\"tur\":{\"official\":\"Kore Cumhuriyeti\",\"common\":\"Güney Kore\"},\"urd\":{\"official\":\"جمہوریہ کوریا \",\"common\":\"جنوبی کوریا\"},\"zho\":{\"official\":\"大韩民国\",\"common\":\"韩国\"}},\"latlng\":[37.0,127.5],\"landlocked\":false,\"borders\":[\"PRK\"],\"area\":100210.0,\"demonyms\":{\"eng\":{\"f\":\"South Korean\",\"m\":\"South Korean\"},\"fra\":{\"f\":\"Sud-coréenne\",\"m\":\"Sud-coréen\"}},\"flag\":\"\\uD83C\\uDDF0\\uD83C\\uDDF7\",\"maps\":{\"googleMaps\":\"https://goo.gl/maps/7ecjaJXefjAQhxjGA\",\"openStreetMaps\":\"https://www.openstreetmap.org/relation/307756\"},\"population\":51780579,\"gini\":{\"2016\":31.4},\"fifa\":\"KOR\",\"car\":{\"signs\":[\"ROK\"],\"side\":\"right\"},\"timezones\":[\"UTC+09:00\"],\"continents\":[\"Asia\"],\"flags\":{\"png\":\"https://flagcdn.com/w320/kr.png\",\"svg\":\"https://flagcdn.com/kr.svg\",\"alt\":\"The flag of South Korea has a white field, at the center of which is a red and blue Taegeuk circle surrounded by four black trigrams, one in each corner.\"},\"coatOfArms\":{\"png\":\"https://mainfacts.com/media/images/coats_of_arms/kr.png\",\"svg\":\"https://mainfacts.com/media/images/coats_of_arms/kr.svg\"},\"startOfWeek\":\"monday\",\"capitalInfo\":{\"latlng\":[37.55,126.98]},\"postalCode\":{\"format\":\"SEOUL ###-###\",\"regex\":\"^(?:SEOUL)*(\\\\d{6})$\"}}]\n"
     ]
    }
   ],
   "source": [
    "import requests\n",
    "\n",
    "url_temp = \"https://restcountries.com/v3.1/name/\"\n",
    "country = 'South Korea'\n",
    "url = url_temp + country\n",
    "print(url)\n",
    "response = requests.get(url)\n",
    "print(response.text)"
   ],
   "metadata": {
    "collapsed": false,
    "ExecuteTime": {
     "end_time": "2024-06-06T04:07:46.819203Z",
     "start_time": "2024-06-06T04:07:38.386552Z"
    }
   },
   "id": "60e1c74f10257827",
   "execution_count": 12
  },
  {
   "cell_type": "code",
   "outputs": [],
   "source": [],
   "metadata": {
    "collapsed": false
   },
   "id": "e5f9393ecdf97eea"
  }
 ],
 "metadata": {
  "kernelspec": {
   "display_name": "Python 3",
   "language": "python",
   "name": "python3"
  },
  "language_info": {
   "codemirror_mode": {
    "name": "ipython",
    "version": 2
   },
   "file_extension": ".py",
   "mimetype": "text/x-python",
   "name": "python",
   "nbconvert_exporter": "python",
   "pygments_lexer": "ipython2",
   "version": "2.7.6"
  }
 },
 "nbformat": 4,
 "nbformat_minor": 5
}
