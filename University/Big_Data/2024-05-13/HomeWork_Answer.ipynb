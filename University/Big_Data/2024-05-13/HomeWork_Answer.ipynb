{
 "cells": [
  {
   "cell_type": "code",
   "execution_count": 15,
   "id": "initial_id",
   "metadata": {
    "ExecuteTime": {
     "end_time": "2024-05-16T05:03:10.090516Z",
     "start_time": "2024-05-16T05:03:10.086013Z"
    },
    "collapsed": true,
    "jupyter": {
     "outputs_hidden": true
    }
   },
   "outputs": [],
   "source": [
    "#함수 모듈 불러오기\n",
    "import math_module"
   ]
  },
  {
   "cell_type": "markdown",
   "id": "62055c24545bc0b2",
   "metadata": {
    "collapsed": false,
    "jupyter": {
     "outputs_hidden": false
    }
   },
   "source": [
    "임의값 : 1,+2,-3,*4,-5,-6,+7,8,+9,+10,(공백)\n",
    "오류해결방안\n",
    "1) 1,8 의 경우 부호를 포함시키지 않으므로 경고 발생\n",
    "2) *4의 경우 +,- 외의 기호를 사용하지 않았기에 경고 발생\n",
    "3) while의 무한 반복 방지를 위한 공백이나 값을 입력하지 않았을 때 중단"
   ]
  },
  {
   "cell_type": "code",
   "execution_count": 18,
   "id": "5d8644be5b81854e",
   "metadata": {
    "ExecuteTime": {
     "end_time": "2024-05-16T05:04:27.511422Z",
     "start_time": "2024-05-16T05:04:08.734632Z"
    },
    "collapsed": false,
    "jupyter": {
     "outputs_hidden": false
    }
   },
   "outputs": [
    {
     "name": "stdout",
     "output_type": "stream",
     "text": [
      "+,- 기호를 넣은 번호를 입력 해 주세요.\n",
      "입력이 끝나면 공백을 입력 해 주세요.\n",
      "+,- 기호를 넣어주세요.\n",
      "+,- 외의 문자값을 입력하였습니다.\n",
      "+,- 기호를 넣어주세요.\n"
     ]
    }
   ],
   "source": [
    "#데이터값 입력\n",
    "\n",
    "#초기값 지정\n",
    "answer = 0\n",
    "\n",
    "print('+,- 기호를 넣은 번호를 입력 해 주세요.')\n",
    "print('입력이 끝나면 공백을 입력 해 주세요.')\n",
    "#입력값이 계속 있을경우 반복\n",
    "while True:\n",
    "    inline = input()\n",
    "        \n",
    "    #입력값이 없을경우 반복문 중단\n",
    "    if not inline or inline == ' ':\n",
    "        break\n",
    "    \n",
    "    #입력값의 부호를 파악\n",
    "    if inline[0] == '+':\n",
    "        answer = math_module.add(answer,int(inline[1:]))\n",
    "    elif inline[0] == '-':\n",
    "        answer = math_module.sub(answer,int(inline[1:]))\n",
    "    else:\n",
    "        #부호를 넣지 않았거나 다른 부호를 넣었는지 확인\n",
    "        try:\n",
    "            int(inline[0])\n",
    "        \n",
    "        except ValueError:\n",
    "            print('+,- 외의 문자값을 입력하였습니다.')\n",
    "            continue\n",
    "        print('+,- 기호를 넣어주세요.')\n",
    "        continue\n",
    "    "
   ]
  },
  {
   "cell_type": "code",
   "execution_count": 19,
   "id": "8a8a551c46761c7e",
   "metadata": {
    "ExecuteTime": {
     "end_time": "2024-05-16T05:04:38.503441Z",
     "start_time": "2024-05-16T05:04:38.498308Z"
    },
    "collapsed": false,
    "jupyter": {
     "outputs_hidden": false
    }
   },
   "outputs": [
    {
     "name": "stdout",
     "output_type": "stream",
     "text": [
      "넣은 값의 결과는 14 입니다.\n"
     ]
    }
   ],
   "source": [
    "#결과출력\n",
    "print(f'넣은 값의 결과는 {answer} 입니다.')"
   ]
  }
 ],
 "metadata": {
  "kernelspec": {
   "display_name": "Python 3 (ipykernel)",
   "language": "python",
   "name": "python3"
  },
  "language_info": {
   "codemirror_mode": {
    "name": "ipython",
    "version": 3
   },
   "file_extension": ".py",
   "mimetype": "text/x-python",
   "name": "python",
   "nbconvert_exporter": "python",
   "pygments_lexer": "ipython3",
   "version": "3.11.7"
  }
 },
 "nbformat": 4,
 "nbformat_minor": 5
}
