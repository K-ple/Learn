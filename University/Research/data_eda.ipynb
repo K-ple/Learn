{
 "cells": [
  {
   "cell_type": "code",
   "execution_count": 49,
   "id": "7c0736bc",
   "metadata": {},
   "outputs": [],
   "source": [
    "import pandas as pd\n",
    "import numpy as np"
   ]
  },
  {
   "cell_type": "code",
   "execution_count": 56,
   "id": "35611191",
   "metadata": {},
   "outputs": [],
   "source": [
    "cheongju_gageong = pd.read_csv('crawled_data/청주 가경동 식당_blog.csv')\n",
    "cheongju_bokdae = pd.read_csv('crawled_data/청주 복대동 식당_blog.csv')\n",
    "cheongju_sachang = pd.read_csv('crawled_data/청주 사창동 식당_blog.csv')\n",
    "cheongju_seongan = pd.read_csv('crawled_data/청주 성안길 식당_blog.csv')\n",
    "cheongju_osong = pd.read_csv('crawled_data/청주 오송 식당_blog.csv')\n",
    "cheongju_ochang = pd.read_csv('crawled_data/청주 오창 식당_blog.csv')\n",
    "cheongju_yongam = pd.read_csv('crawled_data/청주 용암동 식당_blog.csv')\n",
    "cheongju_yulang = pd.read_csv('crawled_data/청주 율량동 식당_blog.csv')\n",
    "cheongju_jiwell = pd.read_csv('crawled_data/청주 지웰시티 식당_blog.csv')"
   ]
  },
  {
   "cell_type": "code",
   "execution_count": 57,
   "id": "10d24b88",
   "metadata": {},
   "outputs": [],
   "source": [
    "other_gwasan = pd.read_csv('crawled_data/괴산 식당_blog.csv')\n",
    "other_jeungpyeong = pd.read_csv('crawled_data/증평 식당_blog.csv')\n",
    "other_jecheon = pd.read_csv('crawled_data/제천 식당_blog.csv')\n",
    "other_danyang = pd.read_csv('crawled_data/단양 식당_blog.csv')\n",
    "other_boeun = pd.read_csv('crawled_data/보은 식당_blog.csv')\n",
    "other_yongdong = pd.read_csv('crawled_data/영동 식당_blog.csv')\n",
    "other_okcheon = pd.read_csv('crawled_data/옥천 식당_blog.csv')\n",
    "other_emsung = pd.read_csv('crawled_data/음성 식당_blog.csv')\n",
    "other_chongju = pd.read_csv('crawled_data/충주 식당_blog.csv')"
   ]
  },
  {
   "cell_type": "code",
   "execution_count": 58,
   "id": "1ef427c7",
   "metadata": {},
   "outputs": [
    {
     "name": "stdout",
     "output_type": "stream",
     "text": [
      "청주 가경 min 20221220\n",
      "청주 복대 min 20190212\n",
      "청주 사창 min 20131118\n",
      "청주 성안 min 20200724\n",
      "청주 오송 min 20210606\n",
      "청주 오창 min 20160204\n",
      "청주 용암 min 20200924\n",
      "청주 율량 min 20171119\n",
      "청주 지웰 min 20230608\n"
     ]
    }
   ],
   "source": [
    "print('청주 가경 min',cheongju_gageong['date'].min())\n",
    "print('청주 복대 min',cheongju_bokdae['date'].min())\n",
    "print('청주 사창 min',cheongju_sachang['date'].min())\n",
    "print('청주 성안 min',cheongju_seongan['date'].min())\n",
    "print('청주 오송 min',cheongju_osong['date'].min())\n",
    "print('청주 오창 min',cheongju_ochang['date'].min())\n",
    "print('청주 용암 min',cheongju_yongam['date'].min())\n",
    "print('청주 율량 min',cheongju_yulang['date'].min())\n",
    "print('청주 지웰 min',cheongju_jiwell['date'].min())"
   ]
  },
  {
   "cell_type": "code",
   "execution_count": 59,
   "id": "6773fc3d",
   "metadata": {},
   "outputs": [
    {
     "name": "stdout",
     "output_type": "stream",
     "text": [
      "괴산 min 20130119\n",
      "증평 min 20140607\n",
      "제천 min 20190811\n",
      "단양 min 20240124\n",
      "보은 min 20130929\n",
      "영동 min 20110228\n",
      "옥천 min 20210803\n",
      "음성 min 20060824\n",
      "충주 min 20230923\n"
     ]
    }
   ],
   "source": [
    "print('괴산 min',other_gwasan['date'].min())\n",
    "print('증평 min',other_jeungpyeong['date'].min())\n",
    "print('제천 min',other_jecheon['date'].min())\n",
    "print('단양 min',other_danyang['date'].min())\n",
    "print('보은 min',other_boeun['date'].min())\n",
    "print('영동 min',other_yongdong['date'].min())\n",
    "print('옥천 min',other_okcheon['date'].min())\n",
    "print('음성 min',other_emsung['date'].min())\n",
    "print('충주 min',other_chongju['date'].min())"
   ]
  },
  {
   "cell_type": "code",
   "execution_count": 60,
   "id": "40490967",
   "metadata": {},
   "outputs": [
    {
     "name": "stdout",
     "output_type": "stream",
     "text": [
      "청주 가경 count 100\n",
      "청주 복대 count 100\n",
      "청주 사창 count 100\n",
      "청주 성안 count 100\n",
      "청주 오송 count 100\n",
      "청주 오창 count 100\n",
      "청주 용암 count 100\n",
      "청주 율량 count 100\n",
      "청주 지웰 count 100\n",
      "----------------------------------------\n",
      "괴산 count 90\n",
      "증평 count 89\n",
      "제천 count 90\n",
      "단양 count 90\n",
      "보은 count 90\n",
      "영동 count 89\n",
      "옥천 count 90\n",
      "음성 count 89\n",
      "충주 count 90\n"
     ]
    }
   ],
   "source": [
    "# 데이터 갯수 확인\n",
    "print('청주 가경 count', len(cheongju_gageong))\n",
    "print('청주 복대 count', len(cheongju_bokdae))\n",
    "print('청주 사창 count', len(cheongju_sachang))\n",
    "print('청주 성안 count', len(cheongju_seongan))\n",
    "print('청주 오송 count', len(cheongju_osong))\n",
    "print('청주 오창 count', len(cheongju_ochang))\n",
    "print('청주 용암 count', len(cheongju_yongam))\n",
    "print('청주 율량 count', len(cheongju_yulang))\n",
    "print('청주 지웰 count', len(cheongju_jiwell))\n",
    "print('-' * 40)\n",
    "print('괴산 count', len(other_gwasan))\n",
    "print('증평 count', len(other_jeungpyeong))\n",
    "print('제천 count', len(other_jecheon))\n",
    "print('단양 count', len(other_danyang))\n",
    "print('보은 count', len(other_boeun))\n",
    "print('영동 count', len(other_yongdong))\n",
    "print('옥천 count', len(other_okcheon))\n",
    "print('음성 count', len(other_emsung))\n",
    "print('충주 count', len(other_chongju))"
   ]
  },
  {
   "cell_type": "markdown",
   "id": "1f01da55",
   "metadata": {},
   "source": [
    "## 21년 컷\n",
    "### 청주\n",
    "가경, 오송, 지웰\n",
    "\n",
    "### 청주 외 충북 지역\n",
    "단양, 옥천, 충주"
   ]
  },
  {
   "cell_type": "code",
   "execution_count": 61,
   "id": "6f25db64",
   "metadata": {},
   "outputs": [
    {
     "name": "stdout",
     "output_type": "stream",
     "text": [
      "cheongju_gageong: 100 → 100 (removed 0)\n",
      "cheongju_bokdae: 100 → 96 (removed 4)\n",
      "cheongju_sachang: 100 → 88 (removed 12)\n",
      "cheongju_seongan: 100 → 99 (removed 1)\n",
      "cheongju_osong: 100 → 99 (removed 1)\n",
      "cheongju_ochang: 100 → 94 (removed 6)\n",
      "cheongju_yongam: 100 → 97 (removed 3)\n",
      "cheongju_yulang: 100 → 99 (removed 1)\n",
      "cheongju_jiwell: 100 → 100 (removed 0)\n",
      "other_gwasan: 90 → 78 (removed 12)\n",
      "other_jeungpyeong: 89 → 84 (removed 5)\n",
      "other_jecheon: 90 → 87 (removed 3)\n",
      "other_danyang: 90 → 90 (removed 0)\n",
      "other_boeun: 90 → 82 (removed 8)\n",
      "other_yongdong: 89 → 74 (removed 15)\n",
      "other_okcheon: 90 → 90 (removed 0)\n",
      "other_emsung: 89 → 83 (removed 6)\n",
      "other_chongju: 90 → 90 (removed 0)\n"
     ]
    }
   ],
   "source": [
    "import pandas as pd\n",
    "\n",
    "# 기준 날짜 (2021년 8월 1일)\n",
    "cutoff = 20210801\n",
    "\n",
    "# 모든 데이터프레임을 딕셔너리 형태로 관리하면 깔끔함\n",
    "datasets = {\n",
    "    \"cheongju_gageong\": cheongju_gageong,\n",
    "    \"cheongju_bokdae\": cheongju_bokdae,\n",
    "    \"cheongju_sachang\": cheongju_sachang,\n",
    "    \"cheongju_seongan\": cheongju_seongan,\n",
    "    \"cheongju_osong\": cheongju_osong,\n",
    "    \"cheongju_ochang\": cheongju_ochang,\n",
    "    \"cheongju_yongam\": cheongju_yongam,\n",
    "    \"cheongju_yulang\": cheongju_yulang,\n",
    "    \"cheongju_jiwell\": cheongju_jiwell,\n",
    "    \"other_gwasan\": other_gwasan,\n",
    "    \"other_jeungpyeong\": other_jeungpyeong,\n",
    "    \"other_jecheon\": other_jecheon,\n",
    "    \"other_danyang\": other_danyang,\n",
    "    \"other_boeun\": other_boeun,\n",
    "    \"other_yongdong\": other_yongdong,\n",
    "    \"other_okcheon\": other_okcheon,\n",
    "    \"other_emsung\": other_emsung,\n",
    "    \"other_chongju\": other_chongju\n",
    "}\n",
    "\n",
    "# 날짜 필터링 (정수 비교 방식)\n",
    "for name, df in datasets.items():\n",
    "    df['date'] = pd.to_numeric(df['date'], errors='coerce')  # 문자열이면 숫자로 변환\n",
    "    before = len(df)\n",
    "    df = df[df['date'] >= cutoff]  # 2021년 8월 1일 이후만 남기기\n",
    "    after = len(df)\n",
    "    datasets[name] = df  # 필터링된 DataFrame 다시 저장\n",
    "    print(f\"{name}: {before} → {after} (removed {before - after})\")\n",
    "\n",
    "# 변수에 다시 반영\n",
    "locals().update(datasets)"
   ]
  },
  {
   "cell_type": "code",
   "execution_count": 62,
   "id": "1ca657a9",
   "metadata": {},
   "outputs": [
    {
     "name": "stdout",
     "output_type": "stream",
     "text": [
      "청주 가경 min 20221220\n",
      "청주 복대 min 20221109\n",
      "청주 사창 min 20220513\n",
      "청주 성안 min 20211019\n",
      "청주 오송 min 20220527\n",
      "청주 오창 min 20221128\n",
      "청주 용암 min 20221011\n",
      "청주 율량 min 20230301\n",
      "청주 지웰 min 20230608\n"
     ]
    }
   ],
   "source": [
    "print('청주 가경 min',cheongju_gageong['date'].min())\n",
    "print('청주 복대 min',cheongju_bokdae['date'].min())\n",
    "print('청주 사창 min',cheongju_sachang['date'].min())\n",
    "print('청주 성안 min',cheongju_seongan['date'].min())\n",
    "print('청주 오송 min',cheongju_osong['date'].min())\n",
    "print('청주 오창 min',cheongju_ochang['date'].min())\n",
    "print('청주 용암 min',cheongju_yongam['date'].min())\n",
    "print('청주 율량 min',cheongju_yulang['date'].min())\n",
    "print('청주 지웰 min',cheongju_jiwell['date'].min())"
   ]
  },
  {
   "cell_type": "code",
   "execution_count": 63,
   "id": "f61584a2",
   "metadata": {},
   "outputs": [
    {
     "name": "stdout",
     "output_type": "stream",
     "text": [
      "괴산 min 20220925\n",
      "증평 min 20211108\n",
      "제천 min 20221127\n",
      "단양 min 20240124\n",
      "보은 min 20220318\n",
      "영동 min 20221007\n",
      "옥천 min 20210803\n",
      "음성 min 20211004\n",
      "충주 min 20230923\n"
     ]
    }
   ],
   "source": [
    "print('괴산 min',other_gwasan['date'].min())\n",
    "print('증평 min',other_jeungpyeong['date'].min())\n",
    "print('제천 min',other_jecheon['date'].min())\n",
    "print('단양 min',other_danyang['date'].min())\n",
    "print('보은 min',other_boeun['date'].min())\n",
    "print('영동 min',other_yongdong['date'].min())\n",
    "print('옥천 min',other_okcheon['date'].min())\n",
    "print('음성 min',other_emsung['date'].min())\n",
    "print('충주 min',other_chongju['date'].min())"
   ]
  },
  {
   "cell_type": "code",
   "execution_count": 64,
   "id": "e9d324b9",
   "metadata": {},
   "outputs": [
    {
     "name": "stdout",
     "output_type": "stream",
     "text": [
      "청주 가경 count 100 | 데이터 필요 : 0\n",
      "청주 복대 count 96 | 데이터 필요 : 4\n",
      "청주 사창 count 88 | 데이터 필요 : 12\n",
      "청주 성안 count 99 | 데이터 필요 : 1\n",
      "청주 오송 count 99 | 데이터 필요 : 1\n",
      "청주 오창 count 94 | 데이터 필요 : 6\n",
      "청주 용암 count 97 | 데이터 필요 : 3\n",
      "청주 율량 count 99 | 데이터 필요 : 1\n",
      "청주 지웰 count 100 | 데이터 필요 : 0\n"
     ]
    }
   ],
   "source": [
    "# 청주 데이터 갯수 확인 및 데이터 필요 갯수\n",
    "print('청주 가경 count', len(cheongju_gageong), '|', '데이터 필요 :', 100 - len(cheongju_gageong))\n",
    "print('청주 복대 count', len(cheongju_bokdae), '|', '데이터 필요 :', 100 - len(cheongju_bokdae))\n",
    "print('청주 사창 count', len(cheongju_sachang), '|', '데이터 필요 :', 100 - len(cheongju_sachang))\n",
    "print('청주 성안 count', len(cheongju_seongan), '|', '데이터 필요 :', 100 - len(cheongju_seongan))\n",
    "print('청주 오송 count', len(cheongju_osong), '|', '데이터 필요 :', 100 - len(cheongju_osong))\n",
    "print('청주 오창 count', len(cheongju_ochang), '|', '데이터 필요 :', 100 - len(cheongju_ochang))\n",
    "print('청주 용암 count', len(cheongju_yongam), '|', '데이터 필요 :', 100 - len(cheongju_yongam))\n",
    "print('청주 율량 count', len(cheongju_yulang), '|', '데이터 필요 :', 100 - len(cheongju_yulang))\n",
    "print('청주 지웰 count', len(cheongju_jiwell), '|', '데이터 필요 :', 100 - len(cheongju_jiwell))"
   ]
  },
  {
   "cell_type": "code",
   "execution_count": 65,
   "id": "d74ea9ee",
   "metadata": {},
   "outputs": [
    {
     "name": "stdout",
     "output_type": "stream",
     "text": [
      "괴산 count 78 | 데이터 필요 : 12\n",
      "증평 count 84 | 데이터 필요 : 6\n",
      "제천 count 87 | 데이터 필요 : 3\n",
      "단양 count 90 | 데이터 필요 : 0\n",
      "보은 count 82 | 데이터 필요 : 8\n",
      "영동 count 74 | 데이터 필요 : 16\n",
      "옥천 count 90 | 데이터 필요 : 0\n",
      "음성 count 83 | 데이터 필요 : 7\n",
      "충주 count 90 | 데이터 필요 : 0\n"
     ]
    }
   ],
   "source": [
    "# 청주 외 충북 지역 데이터 갯수 확인 및 데이터 필요 갯수\n",
    "print('괴산 count', len(other_gwasan), '|', '데이터 필요 :', 90 - len(other_gwasan))\n",
    "print('증평 count', len(other_jeungpyeong), '|', '데이터 필요 :', 90 - len(other_jeungpyeong))\n",
    "print('제천 count', len(other_jecheon), '|','데이터 필요 :', 90 - len(other_jecheon))\n",
    "print('단양 count', len(other_danyang), '|','데이터 필요 :', 90 - len(other_danyang))\n",
    "print('보은 count', len(other_boeun), '|','데이터 필요 :', 90 - len(other_boeun))\n",
    "print('영동 count', len(other_yongdong), '|','데이터 필요 :', 90 - len(other_yongdong))\n",
    "print('옥천 count', len(other_okcheon), '|','데이터 필요 :', 90 - len(other_okcheon))\n",
    "print('음성 count', len(other_emsung), '|','데이터 필요 :', 90 - len(other_emsung))\n",
    "print('충주 count', len(other_chongju), '|','데이터 필요 :', 90 - len(other_chongju))"
   ]
  },
  {
   "cell_type": "code",
   "execution_count": null,
   "id": "a0927eb3",
   "metadata": {},
   "outputs": [],
   "source": []
  }
 ],
 "metadata": {
  "kernelspec": {
   "display_name": "base",
   "language": "python",
   "name": "python3"
  },
  "language_info": {
   "codemirror_mode": {
    "name": "ipython",
    "version": 3
   },
   "file_extension": ".py",
   "mimetype": "text/x-python",
   "name": "python",
   "nbconvert_exporter": "python",
   "pygments_lexer": "ipython3",
   "version": "3.12.7"
  }
 },
 "nbformat": 4,
 "nbformat_minor": 5
}
