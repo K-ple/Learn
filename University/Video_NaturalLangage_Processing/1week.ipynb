{
 "cells": [
  {
   "cell_type": "markdown",
   "metadata": {},
   "source": [
    "<p>문제 1 : 나이 계산기\n",
    "<p>사용자로부터 이름과 출생 연도를 입력받아, 현재 나이를 계산하여 출력하는 프로그램을 작성하세요\n",
    "<p>조건 1 : 현재 연도는 2025년으로 정하고 계산 \n",
    "<p>조건 2 : 출력 형식은 “OOO님의 나이는 XX살입니다.”"
   ]
  },
  {
   "cell_type": "code",
   "execution_count": null,
   "metadata": {},
   "outputs": [
    {
     "name": "stdout",
     "output_type": "stream",
     "text": [
      "김철수님의 나이는 25살입니다다\n"
     ]
    }
   ],
   "source": [
    "name = input(\"이름을 입력하세요: \")\n",
    "year = int(input(\"출생 연도를 입력하세요: \"))\n",
    "print(f'{name}님의 나이는 {2025-year}살입니다다')"
   ]
  },
  {
   "cell_type": "markdown",
   "metadata": {},
   "source": [
    "<p>문제 2 : 환율 계산기\n",
    "<p>사용자로부터 원화를 입력받아 달러로 변환하는 프로그램을 작성하세요\n",
    "<p>조건 1 : 환율은 1달러 = 1300원으로 가정\n",
    "<p>조건 2 : 출력 형식은 “XX KRW는 약 YY USD입니다.”로 소수점 2자리까지 표시\n"
   ]
  },
  {
   "cell_type": "code",
   "execution_count": 8,
   "metadata": {},
   "outputs": [
    {
     "name": "stdout",
     "output_type": "stream",
     "text": [
      "26000 KRW는 약 20.00 USD입니다.\n"
     ]
    }
   ],
   "source": [
    "money = int(input('변환할 원화 금액을 입력하세요: '))\n",
    "print(f'{money} KRW는 약 {money/1300:.2f} USD입니다.')"
   ]
  },
  {
   "cell_type": "markdown",
   "metadata": {},
   "source": [
    "<p>문제 3 : 고객정보 입출력\n",
    "<p>사용자로부터 이름, 나이, 이메일, 주소를 입력받아 딕셔너리에 저장하고 출력하는 프로그램을 작성하세요\n",
    "<p>조건 1 : 출력 형식은 아래 실행 예시와 동일하게 작성할 것\n",
    "<p>조건 2 : 출력할 때는 딕셔너리에서 불러올 것\n"
   ]
  },
  {
   "cell_type": "code",
   "execution_count": 9,
   "metadata": {},
   "outputs": [
    {
     "name": "stdout",
     "output_type": "stream",
     "text": [
      "===== 고객 정보 =====\n",
      "이름: 김철수\n",
      "나이: 30\n",
      "이메일: chulsoo@example.com\n",
      "주소: 서울특별시 강남구\n"
     ]
    }
   ],
   "source": [
    "dic = {}\n",
    "dic['이름'] = input('이름을 입력하세요: ')\n",
    "dic['나이'] = int(input('나이를 입력하세요: '))\n",
    "dic['이메일'] = input('이메일을 입력하세요: ')\n",
    "dic['주소'] = input('주소를 입력하세요: ')\n",
    "\n",
    "print('===== 고객 정보 =====')\n",
    "for i, j in dic.items():\n",
    "    print(f'{i}: {j}')"
   ]
  }
 ],
 "metadata": {
  "kernelspec": {
   "display_name": "base",
   "language": "python",
   "name": "python3"
  },
  "language_info": {
   "codemirror_mode": {
    "name": "ipython",
    "version": 3
   },
   "file_extension": ".py",
   "mimetype": "text/x-python",
   "name": "python",
   "nbconvert_exporter": "python",
   "pygments_lexer": "ipython3",
   "version": "3.9.6"
  }
 },
 "nbformat": 4,
 "nbformat_minor": 2
}
