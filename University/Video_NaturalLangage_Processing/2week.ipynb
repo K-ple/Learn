{
 "cells": [
  {
   "cell_type": "code",
   "execution_count": 1,
   "metadata": {},
   "outputs": [
    {
     "name": "stdout",
     "output_type": "stream",
     "text": [
      "두개의 값은 같습니다.\n"
     ]
    }
   ],
   "source": [
    "a = 1\n",
    "b = 1\n",
    "\n",
    "if a == b:\n",
    "    print('두개의 값은 같습니다.')\n",
    "if a != b:\n",
    "    print('두개의 값은 같지 않습니다.')"
   ]
  },
  {
   "cell_type": "code",
   "execution_count": 2,
   "metadata": {},
   "outputs": [
    {
     "name": "stdout",
     "output_type": "stream",
     "text": [
      "두개의 값은 같지 않습니다.\n"
     ]
    }
   ],
   "source": [
    "a = 1\n",
    "b = 2\n",
    "\n",
    "if a == b:\n",
    "    print('두개의 값은 같습니다.')\n",
    "else:\n",
    "    print('두개의 값은 같지 않습니다.')"
   ]
  },
  {
   "cell_type": "code",
   "execution_count": 3,
   "metadata": {},
   "outputs": [
    {
     "name": "stdout",
     "output_type": "stream",
     "text": [
      "b 값이 더 큽니다.\n"
     ]
    }
   ],
   "source": [
    "a = 1\n",
    "b = 2\n",
    "\n",
    "if a > b:\n",
    "    print(\"a 값이 더 큽니다.\")\n",
    "elif a < b:\n",
    "    print(\"b 값이 더 큽니다.\")\n",
    "else:\n",
    "    print(\"두개의 값은 같습니다.\")"
   ]
  },
  {
   "cell_type": "code",
   "execution_count": 6,
   "metadata": {},
   "outputs": [
    {
     "name": "stdout",
     "output_type": "stream",
     "text": [
      "a 값이 더 크거나 같습니다.\n",
      "a 값이 더 작거나 같습니다.\n"
     ]
    }
   ],
   "source": [
    "a = 1\n",
    "b = 1\n",
    "\n",
    "if a>=b:\n",
    "    print('a 값이 더 크거나 같습니다.')\n",
    "\n",
    "if a <= b:\n",
    "    print(\"a 값이 더 작거나 같습니다.\")"
   ]
  },
  {
   "cell_type": "code",
   "execution_count": 7,
   "metadata": {},
   "outputs": [
    {
     "name": "stdout",
     "output_type": "stream",
     "text": [
      "두 조건 모두 만족\n",
      "두 조건 중 하나라도 만족하면\n"
     ]
    }
   ],
   "source": [
    "a = 1\n",
    "b = 1\n",
    "c = 2\n",
    "d = 2\n",
    "\n",
    "if a == b and c == d:\n",
    "    print('두 조건 모두 만족')\n",
    "\n",
    "if a == b or c == d:\n",
    "    print('두 조건 중 하나라도 만족하면')"
   ]
  },
  {
   "cell_type": "code",
   "execution_count": 9,
   "metadata": {},
   "outputs": [
    {
     "name": "stdout",
     "output_type": "stream",
     "text": [
      "hello python 문자열이 같습니다.\n",
      "hello 가 포함되어 있습니다.\n",
      "hi 가 포함되어 있지 않습니다.\n"
     ]
    }
   ],
   "source": [
    "a_str = 'hello python'\n",
    "\n",
    "if a_str == 'hello python':\n",
    "    print(\"hello python 문자열이 같습니다.\")\n",
    "if a_str == 'hi python':\n",
    "    print('hi python 문자열이 같습니다.')\n",
    "if 'hello' in a_str:\n",
    "    print('hello 가 포함되어 있습니다.')\n",
    "if 'hello' not in a_str:\n",
    "    print('hello 가 포함되어 있지 않습니다.')\n",
    "if 'hi' not in a_str:\n",
    "    print('hi 가 포함되어 있지 않습니다.')"
   ]
  },
  {
   "cell_type": "code",
   "execution_count": 11,
   "metadata": {},
   "outputs": [
    {
     "name": "stdout",
     "output_type": "stream",
     "text": [
      "a_list에 안녕 이 포함되어 있습니다.\n",
      "a_list에 숫자 2 가 포함되어 있습니다.\n"
     ]
    }
   ],
   "source": [
    "a_list = ['안녕', 1, 2, '파이썬']\n",
    "\n",
    "if '안녕' in a_list:\n",
    "    print('a_list에 안녕 이 포함되어 있습니다.')\n",
    "if 2 in a_list:\n",
    "    print(\"a_list에 숫자 2 가 포함되어 있습니다.\")"
   ]
  },
  {
   "cell_type": "code",
   "execution_count": 13,
   "metadata": {},
   "outputs": [
    {
     "name": "stdout",
     "output_type": "stream",
     "text": [
      "a_list에 숫자 5는 없습니다.\n"
     ]
    }
   ],
   "source": [
    "a_list = ['안녕', 1, 2, '파이썬']\n",
    "\n",
    "if '안녕' not in a_list:\n",
    "    print('a_list에 안녕 이 포함되어 있지 않습니다.')\n",
    "if 5 not in a_list:\n",
    "    print('a_list에 숫자 5는 없습니다.')"
   ]
  },
  {
   "cell_type": "code",
   "execution_count": 14,
   "metadata": {},
   "outputs": [
    {
     "name": "stdout",
     "output_type": "stream",
     "text": [
      "0\n",
      "1\n",
      "2\n",
      "3\n",
      "4\n",
      "5\n",
      "6\n"
     ]
    }
   ],
   "source": [
    "for i in range(7):\n",
    "    print(i)"
   ]
  },
  {
   "cell_type": "code",
   "execution_count": 15,
   "metadata": {},
   "outputs": [
    {
     "name": "stdout",
     "output_type": "stream",
     "text": [
      "5\n",
      "6\n",
      "7\n",
      "8\n",
      "9\n"
     ]
    }
   ],
   "source": [
    "for i in range(5,10):\n",
    "    print(i)"
   ]
  },
  {
   "cell_type": "code",
   "execution_count": 16,
   "metadata": {},
   "outputs": [
    {
     "name": "stdout",
     "output_type": "stream",
     "text": [
      "10\n",
      "9\n",
      "8\n",
      "7\n",
      "6\n"
     ]
    }
   ],
   "source": [
    "for i in range(10,5,-1):\n",
    "    print(i)"
   ]
  },
  {
   "cell_type": "code",
   "execution_count": 17,
   "metadata": {},
   "outputs": [
    {
     "name": "stdout",
     "output_type": "stream",
     "text": [
      "1\n",
      "2\n",
      "3\n",
      "4\n",
      "5\n",
      "안녕\n",
      "하세요\n"
     ]
    }
   ],
   "source": [
    "a_list = [1,2,3,4,5,'안녕','하세요']\n",
    "\n",
    "for i in a_list:\n",
    "    print(i)"
   ]
  },
  {
   "cell_type": "code",
   "execution_count": 18,
   "metadata": {},
   "outputs": [
    {
     "name": "stdout",
     "output_type": "stream",
     "text": [
      "홍길동  500\n",
      "장다인  5\n",
      "김철수  12\n"
     ]
    }
   ],
   "source": [
    "name_list = ['홍길동','장다인','김철수']\n",
    "age_list = [500,5,12]\n",
    "\n",
    "for i in range(len(name_list)):\n",
    "    print(name_list[i], end= '  ')\n",
    "    print(age_list[i])"
   ]
  },
  {
   "cell_type": "code",
   "execution_count": 20,
   "metadata": {},
   "outputs": [
    {
     "name": "stdout",
     "output_type": "stream",
     "text": [
      "[0, 1, 2, 3, 4, 5, 6, 7, 8, 9]\n",
      "[0, 1, 2, 3, 4, 5, 6, 7, 8, 9]\n"
     ]
    }
   ],
   "source": [
    "test_list = [i for i in range(10)]\n",
    "\n",
    "print(test_list)\n",
    "\n",
    "test2_list = []\n",
    "for i in range(10):\n",
    "    test2_list.append(i)\n",
    "print(test2_list)"
   ]
  },
  {
   "cell_type": "code",
   "execution_count": 21,
   "metadata": {},
   "outputs": [
    {
     "name": "stdout",
     "output_type": "stream",
     "text": [
      "[0, 5, 10, 15, 20, 25, 30, 35, 40, 45]\n",
      "[0, 0, 0, 0, 0, 0, 0, 0, 0, 0]\n"
     ]
    }
   ],
   "source": [
    "test_list = [i*5 for i in range(10)]\n",
    "\n",
    "print(test_list)\n",
    "\n",
    "test2_list = [0 for i in range(10)]\n",
    "\n",
    "print(test2_list)"
   ]
  },
  {
   "cell_type": "code",
   "execution_count": 22,
   "metadata": {},
   "outputs": [
    {
     "name": "stdout",
     "output_type": "stream",
     "text": [
      "0\n",
      "1\n",
      "2\n",
      "3\n",
      "4\n"
     ]
    }
   ],
   "source": [
    "a = 0\n",
    "while a < 5:\n",
    "    print(a)\n",
    "    a = a + 1"
   ]
  },
  {
   "cell_type": "code",
   "execution_count": 23,
   "metadata": {},
   "outputs": [
    {
     "name": "stdout",
     "output_type": "stream",
     "text": [
      "0\n",
      "1\n",
      "2\n",
      "3\n",
      "4\n"
     ]
    }
   ],
   "source": [
    "a = 0\n",
    "while True:\n",
    "    print(a)\n",
    "    a = a + 1\n",
    "    if a >= 5:\n",
    "        break"
   ]
  },
  {
   "cell_type": "code",
   "execution_count": 24,
   "metadata": {},
   "outputs": [
    {
     "name": "stdout",
     "output_type": "stream",
     "text": [
      "안녕하세요\n",
      "ooo입니다.\n"
     ]
    }
   ],
   "source": [
    "def func():\n",
    "    print('안녕하세요')\n",
    "    print('ooo입니다.')\n",
    "\n",
    "func()"
   ]
  },
  {
   "cell_type": "code",
   "execution_count": 25,
   "metadata": {},
   "outputs": [
    {
     "name": "stdout",
     "output_type": "stream",
     "text": [
      "안녕하세요\n",
      "ooo입니다.\n",
      "안녕하세요\n",
      "ooo입니다.\n",
      "안녕하세요\n",
      "ooo입니다.\n"
     ]
    }
   ],
   "source": [
    "def func():\n",
    "    print('안녕하세요')\n",
    "    print('ooo입니다.')\n",
    "for i in range(3):\n",
    "    func()"
   ]
  },
  {
   "cell_type": "code",
   "execution_count": 26,
   "metadata": {},
   "outputs": [
    {
     "name": "stdout",
     "output_type": "stream",
     "text": [
      "3\n"
     ]
    }
   ],
   "source": [
    "def funcAdd(a, b):\n",
    "    return a + b\n",
    "\n",
    "c = funcAdd(1,2)\n",
    "print(c)"
   ]
  },
  {
   "cell_type": "code",
   "execution_count": 27,
   "metadata": {},
   "outputs": [
    {
     "name": "stdout",
     "output_type": "stream",
     "text": [
      "hello\n",
      "hi\n",
      "hello\n",
      "hi\n"
     ]
    }
   ],
   "source": [
    "class Greet():\n",
    "    def hello(self):\n",
    "        print('hello')\n",
    "    \n",
    "    def hi(self):\n",
    "        print('hi')\n",
    "\n",
    "human1 = Greet()\n",
    "human2 = Greet()\n",
    "\n",
    "human1.hello()\n",
    "human1.hi()\n",
    "\n",
    "human2.hello()\n",
    "human2.hi()"
   ]
  },
  {
   "cell_type": "code",
   "execution_count": 28,
   "metadata": {},
   "outputs": [
    {
     "name": "stdout",
     "output_type": "stream",
     "text": [
      "이름:김철수, 나이:17, 좋아하는것:축구\n",
      "이름:장다인, 나이:5, 좋아하는것:헬로카봇\n"
     ]
    }
   ],
   "source": [
    "class Student():\n",
    "    def __init__(self, name, age, like):\n",
    "        self.name = name\n",
    "        self.age = age\n",
    "        self.like = like\n",
    "\n",
    "    def stuendtInfo(self):\n",
    "        print(f'이름:{self.name}, 나이:{self.age}, 좋아하는것:{self.like}')\n",
    "\n",
    "\n",
    "김철수 = Student('김철수', 17, '축구')\n",
    "장다인 = Student('장다인', 5, '헬로카봇')\n",
    "\n",
    "김철수.stuendtInfo()\n",
    "장다인.stuendtInfo()"
   ]
  },
  {
   "cell_type": "code",
   "execution_count": 29,
   "metadata": {},
   "outputs": [
    {
     "name": "stdout",
     "output_type": "stream",
     "text": [
      "엄마는\n",
      "키가 크다.\n",
      "공부를 잘한다.\n",
      "딸은\n",
      "키가 크다.\n",
      "공부를 잘한다.\n",
      "운동을 잘한다.\n"
     ]
    }
   ],
   "source": [
    "class Mother():\n",
    "    def characteristic(self):\n",
    "        print('키가 크다.')\n",
    "        print('공부를 잘한다.')\n",
    "\n",
    "class Daughter(Mother):\n",
    "    def characteristic(self):\n",
    "        super().characteristic()\n",
    "        print('운동을 잘한다.')\n",
    "\n",
    "엄마 = Mother()\n",
    "딸 = Daughter()\n",
    "\n",
    "print('엄마는')\n",
    "엄마.characteristic()\n",
    "print('딸은')\n",
    "딸.characteristic()"
   ]
  }
 ],
 "metadata": {
  "kernelspec": {
   "display_name": "base",
   "language": "python",
   "name": "python3"
  },
  "language_info": {
   "codemirror_mode": {
    "name": "ipython",
    "version": 3
   },
   "file_extension": ".py",
   "mimetype": "text/x-python",
   "name": "python",
   "nbconvert_exporter": "python",
   "pygments_lexer": "ipython3",
   "version": "3.9.6"
  }
 },
 "nbformat": 4,
 "nbformat_minor": 2
}
