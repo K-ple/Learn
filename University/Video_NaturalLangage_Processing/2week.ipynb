{
 "cells": [
  {
   "cell_type": "markdown",
   "metadata": {},
   "source": [
    "<p>문제 1 : 숫자 맞히기 게임\n",
    "<p>프로그램이 1~100사이 랜덤 숫자를 생성하고 사용자가 숫자를 입력해서 <p>맞힐 때까지 반복\n",
    "<p>조건 1 : 입력에 따라 예시와 같은 문구 출력\n",
    "<p>조건 2 : 정답을 맞히면 맞힌 횟수 출력\n"
   ]
  },
  {
   "cell_type": "code",
   "execution_count": 6,
   "metadata": {},
   "outputs": [
    {
     "name": "stdout",
     "output_type": "stream",
     "text": [
      "1부터 100 사이의 숫자를 맞혀보세요!\n",
      "더 작은 숫자를 입력하세요.\n",
      "더 작은 숫자를 입력하세요.\n",
      "더 큰 숫자를 입력하세요.\n",
      "더 작은 숫자를 입력하세요.\n",
      "더 작은 숫자를 입력하세요.\n",
      "정답입니다! 6번 만에 맞혔습니다.\n"
     ]
    }
   ],
   "source": [
    "import random\n",
    "random_number = random.randint(1,100)\n",
    "print('1부터 100 사이의 숫자를 맞혀보세요!')\n",
    "stack = 0\n",
    "while True:\n",
    "    stack += 1\n",
    "    number = int(input('숫자를 입력하세요: '))\n",
    "    if number > random_number:\n",
    "        print('더 작은 숫자를 입력하세요.')\n",
    "    elif number < random_number:\n",
    "        print('더 큰 숫자를 입력하세요.')\n",
    "    else:\n",
    "        print(f'정답입니다! {stack}번 만에 맞혔습니다.')\n",
    "        break\n",
    "\n"
   ]
  },
  {
   "cell_type": "markdown",
   "metadata": {},
   "source": [
    "<p>문제 2 : ATM 만들기\n",
    "<p>사용자가 잔액 조회, 입금, 출금을 할 수 있는 간단한 ATM 시스템을 만들어 보세요.\n",
    "<p>조건 1 : 초기잔액은 10000원, 1번이 잔액 조회, 2번 입금, 3번 출금, 4번은 종료로 지정\n",
    "<p>조건 2 : 입금 시 잔액에 입금 금액을 추가하며, 출금 시 잔액에서 차감하며, 차감 후 현재 잔액을 출력\n",
    "<p>조건 3 : 출금 잔액이 모자라면 안내 메시지 출력\n"
   ]
  },
  {
   "cell_type": "code",
   "execution_count": 9,
   "metadata": {},
   "outputs": [
    {
     "name": "stdout",
     "output_type": "stream",
     "text": [
      "=== ATM 시스템 ===\n",
      "1. 잔액 조회\n",
      "2. 입금\n",
      "3. 출금\n",
      "4. 종료\n",
      "현재 잔액: ₩10000\n",
      "입금 완료! 현재 잔액: ₩15000\n",
      "잔액이 부족합니다.\n",
      "프로그램을 종료합니다.\n"
     ]
    }
   ],
   "source": [
    "class bank():\n",
    "    def __init__(self):\n",
    "        self.money = int(10000)\n",
    "    def find(self):\n",
    "        print(f'현재 잔액: ₩{self.money}')\n",
    "    def in_money(self):\n",
    "        input_money = int(input(\"입금할 금액을 입력하세요: \"))\n",
    "        self.money += input_money\n",
    "        print(f'입금 완료! 현재 잔액: ₩{self.money}')\n",
    "    def out_money(self):\n",
    "        output_money = int(input('출금할 금액을 입력하세요: '))\n",
    "        if output_money > self.money:\n",
    "            print('잔액이 부족합니다.')\n",
    "    def exit_pro(self):\n",
    "        print('프로그램을 종료합니다.')\n",
    "\n",
    "example_bank = bank()\n",
    "\n",
    "print('=== ATM 시스템 ===')\n",
    "print('1. 잔액 조회')\n",
    "print('2. 입금')\n",
    "print('3. 출금')\n",
    "print('4. 종료')\n",
    "\n",
    "while True:\n",
    "    choose = int(input('번호를 선택하세요: '))\n",
    "\n",
    "    if choose == 1:\n",
    "        example_bank.find()\n",
    "    elif choose == 2:\n",
    "        example_bank.in_money()\n",
    "    elif choose == 3:\n",
    "        example_bank.out_money()\n",
    "    elif choose == 4:\n",
    "        example_bank.exit_pro()\n",
    "        break\n"
   ]
  },
  {
   "cell_type": "markdown",
   "metadata": {},
   "source": [
    "<p>문제 3 : 소수 판별기\n",
    "사용자로부터 입력 받은 숫자가 소수인지 판별하는 프로그램을 작성하세요\n",
    "<p>조건 1 : 출력 형식은 아래 실행 예시와 동일하게 작성할 것\n",
    "<p>조건 2 : 1보다 작은 수 입력 시 경고문구 출력\n"
   ]
  },
  {
   "cell_type": "code",
   "execution_count": 13,
   "metadata": {},
   "outputs": [
    {
     "name": "stdout",
     "output_type": "stream",
     "text": [
      "17은 소수입니다.\n",
      "20은 소수가 아닙니다.\n",
      "소수는 2 이상의 숫자만 가능합니다.\n"
     ]
    }
   ],
   "source": [
    "for _ in range(3):\n",
    "    not_sosu = False\n",
    "    number = int(input('숫자를 입력하세요: '))\n",
    "    if number < 2:\n",
    "        print('소수는 2 이상의 숫자만 가능합니다.')\n",
    "        continue\n",
    "    for i in range(2, number):\n",
    "        if number % i == 0:\n",
    "            not_sosu = True\n",
    "            break\n",
    "    if not_sosu:\n",
    "        print(f'{number}은 소수가 아닙니다.')\n",
    "    else:\n",
    "        print(f'{number}은 소수입니다.')"
   ]
  }
 ],
 "metadata": {
  "kernelspec": {
   "display_name": "base",
   "language": "python",
   "name": "python3"
  },
  "language_info": {
   "codemirror_mode": {
    "name": "ipython",
    "version": 3
   },
   "file_extension": ".py",
   "mimetype": "text/x-python",
   "name": "python",
   "nbconvert_exporter": "python",
   "pygments_lexer": "ipython3",
   "version": "3.9.6"
  }
 },
 "nbformat": 4,
 "nbformat_minor": 2
}
