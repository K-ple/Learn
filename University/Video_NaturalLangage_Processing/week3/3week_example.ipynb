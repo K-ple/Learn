{
 "cells": [
  {
   "cell_type": "code",
   "execution_count": 4,
   "metadata": {},
   "outputs": [],
   "source": [
    "import graphviz\n",
    "from sklearn import datasets\n",
    "from sklearn.tree import DecisionTreeClassifier\n",
    "from sklearn import tree"
   ]
  },
  {
   "cell_type": "code",
   "execution_count": 5,
   "metadata": {},
   "outputs": [],
   "source": [
    "def main():\n",
    "    # iris 데이터 로드 (1)\n",
    "    dataset = datasets.load_iris()\n",
    "\n",
    "    features = dataset.data\n",
    "    targets = dataset.target\n",
    "\n",
    "    #꽃잎의 길이와 넓이 정보만 특징으로 사용 (2)\n",
    "    petal_features = features [:, 2:]\n",
    "\n",
    "    #의사결정 모델 클래스 생성 (3)\n",
    "    clris = DecisionTreeClassifier(criterion='entropy', max_depth=3)\n",
    "    #모델을 훈련 (4)\n",
    "    clris.fit(petal_features, targets)\n",
    "\n",
    "    #DoT ㅇ너어의 형식으로 결정 나무의 형태를 출력한다.\n",
    "    with open('iris-dtree.dot', mode = 'w') as f:\n",
    "        tree.export_graphviz(clris, out_file= f)\n",
    "\n",
    "\n",
    "if __name__ == '__main__':\n",
    "    main()"
   ]
  },
  {
   "cell_type": "code",
   "execution_count": 6,
   "metadata": {},
   "outputs": [
    {
     "data": {
      "text/plain": [
       "'iris-dtree.png'"
      ]
     },
     "execution_count": 6,
     "metadata": {},
     "output_type": "execute_result"
    }
   ],
   "source": [
    "with open('./iris-dtree.dot') as f:\n",
    "    dot_source = f.read()\n",
    "graph = graphviz.Source(dot_source)\n",
    "\n",
    "graph.render('iris-dtree', format='png')"
   ]
  },
  {
   "cell_type": "code",
   "execution_count": 7,
   "metadata": {},
   "outputs": [],
   "source": [
    "def main():\n",
    "    dataset = datasets.load_iris()\n",
    "\n",
    "    features = dataset.data\n",
    "    targets = dataset.target\n",
    "\n",
    "    clris = DecisionTreeClassifier(criterion='entropy', max_depth=3)\n",
    "    clris.fit(features, targets)\n",
    "\n",
    "    with open('iris-dtree2.dot', mode='w') as f:\n",
    "        tree.export_graphviz(clris, out_file=f, feature_names=dataset.feature_names, class_names=dataset.target_names)\n",
    "\n",
    "if __name__ == '__main__':\n",
    "    main()"
   ]
  },
  {
   "cell_type": "code",
   "execution_count": 7,
   "metadata": {},
   "outputs": [
    {
     "data": {
      "text/plain": [
       "'iris-dtree2.png'"
      ]
     },
     "execution_count": 7,
     "metadata": {},
     "output_type": "execute_result"
    }
   ],
   "source": [
    "with open('./iris-dtree2.dot') as f:\n",
    "    dot_source = f.read()\n",
    "graph = graphviz.Source(dot_source)\n",
    "graph.render('iris-dtree2', format='png')"
   ]
  },
  {
   "cell_type": "code",
   "execution_count": 2,
   "metadata": {},
   "outputs": [],
   "source": [
    "import graphviz\n",
    "from sklearn import datasets\n",
    "from sklearn import tree\n",
    "from sklearn.tree import DecisionTreeClassifier\n",
    "from sklearn.model_selection import train_test_split"
   ]
  },
  {
   "cell_type": "code",
   "execution_count": 3,
   "metadata": {},
   "outputs": [
    {
     "name": "stdout",
     "output_type": "stream",
     "text": [
      "훈련 점수: 0.967\n",
      "테스트 점수: 0.947\n"
     ]
    }
   ],
   "source": [
    "def main():\n",
    "    cancer = datasets.load_breast_cancer()\n",
    "\n",
    "    x_train, x_test, y_train, y_test = train_test_split(cancer.data, cancer.target, stratify=cancer.target, random_state=42, test_size=0.2)\n",
    "\n",
    "    cancer_model = DecisionTreeClassifier(criterion='entropy', max_depth=3)\n",
    "\n",
    "    cancer_model.fit(x_train, y_train)\n",
    "    print('훈련 점수: {:.3f}'.format(cancer_model.score(x_train, y_train)))\n",
    "    print('테스트 점수: {:.3f}'.format(cancer_model.score(x_test, y_test)))\n",
    "\n",
    "    with open('cancer-dtree.dot', mode='w') as f:\n",
    "        tree.export_graphviz(cancer_model, out_file=f, feature_names=cancer.feature_names, class_names=['cancer', 'not-cancer'])\n",
    "\n",
    "if __name__ == '__main__':\n",
    "    main()"
   ]
  },
  {
   "cell_type": "code",
   "execution_count": 5,
   "metadata": {},
   "outputs": [
    {
     "data": {
      "text/plain": [
       "'cancer-dtree.png'"
      ]
     },
     "execution_count": 5,
     "metadata": {},
     "output_type": "execute_result"
    }
   ],
   "source": [
    "with open('./cancer-dtree.dot') as f:\n",
    "    dot_source = f.read()\n",
    "graph = graphviz.Source(dot_source)\n",
    "graph.render('cancer-dtree', format='png')"
   ]
  },
  {
   "cell_type": "code",
   "execution_count": 2,
   "metadata": {},
   "outputs": [],
   "source": [
    "import graphviz\n",
    "import pandas as pd\n",
    "from sklearn.model_selection import train_test_split\n",
    "from sklearn.svm import SVC\n",
    "\n",
    "from sklearn.preprocessing import StandardScaler"
   ]
  },
  {
   "cell_type": "code",
   "execution_count": 4,
   "metadata": {},
   "outputs": [
    {
     "name": "stdout",
     "output_type": "stream",
     "text": [
      "x shape: (768, 8), y shape: (768,)\n",
      "훈련 점수: 0.825\n",
      "테스트 점수: 0.776\n"
     ]
    }
   ],
   "source": [
    "pi_diabetes = pd.read_csv('../source/3week/pima-indians-diabetes.csv', header=None)\n",
    "\n",
    "x = pi_diabetes.iloc[:, :8]\n",
    "y = pi_diabetes.iloc[:, 8].values.flatten()\n",
    "\n",
    "print('x shape: {}, y shape: {}'.format(x.shape, y.shape))\n",
    "\n",
    "x_train, x_test, y_train, y_test = train_test_split(x, y, random_state=0)\n",
    "\n",
    "std_scl = StandardScaler()\n",
    "std_scl.fit(x_train)\n",
    "x_train = std_scl.transform(x_train)\n",
    "x_test = std_scl.transform(x_test)\n",
    "\n",
    "svc = SVC()\n",
    "svc.fit(x_train, y_train)\n",
    "\n",
    "print('훈련 점수: {:.3f}'.format(svc.score(x_train, y_train)))\n",
    "print('테스트 점수: {:.3f}'.format(svc.score(x_test, y_test)))"
   ]
  },
  {
   "cell_type": "code",
   "execution_count": 7,
   "metadata": {},
   "outputs": [],
   "source": [
    "import graphviz\n",
    "import pandas as pd\n",
    "from sklearn.model_selection import train_test_split\n",
    "from sklearn.svm import SVC"
   ]
  },
  {
   "cell_type": "code",
   "execution_count": 12,
   "metadata": {},
   "outputs": [
    {
     "name": "stdout",
     "output_type": "stream",
     "text": [
      "훈련 점수: 0.995\n",
      "테스트 점수: 0.996\n"
     ]
    }
   ],
   "source": [
    "mushroom = pd.read_csv('https://archive.ics.uci.edu/ml/machine-learning-databases/mushroom/agaricus-lepiota.data', header=None)\n",
    "\n",
    "x = []\n",
    "y = []\n",
    "\n",
    "for row_index, row in mushroom.iterrows():\n",
    "    y.append(row[0])\n",
    "    row_x = []\n",
    "    for v in row.iloc[1:]:\n",
    "        row_x.append(ord(v))\n",
    "    x.append(row_x)\n",
    "\n",
    "x_train, x_test, y_train, y_test = train_test_split(x, y)\n",
    "\n",
    "svc = SVC()\n",
    "svc.fit(x_train, y_train)\n",
    "\n",
    "print('훈련 점수: {:.3f}'.format(svc.score(x_train, y_train)))\n",
    "print('테스트 점수: {:.3f}'.format(svc.score(x_test, y_test)))"
   ]
  },
  {
   "cell_type": "code",
   "execution_count": null,
   "metadata": {},
   "outputs": [],
   "source": []
  }
 ],
 "metadata": {
  "kernelspec": {
   "display_name": "base",
   "language": "python",
   "name": "python3"
  },
  "language_info": {
   "codemirror_mode": {
    "name": "ipython",
    "version": 3
   },
   "file_extension": ".py",
   "mimetype": "text/x-python",
   "name": "python",
   "nbconvert_exporter": "python",
   "pygments_lexer": "ipython3",
   "version": "3.9.6"
  }
 },
 "nbformat": 4,
 "nbformat_minor": 2
}
