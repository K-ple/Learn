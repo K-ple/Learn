{
  "nbformat": 4,
  "nbformat_minor": 0,
  "metadata": {
    "colab": {
      "provenance": [],
      "toc_visible": true,
      "authorship_tag": "ABX9TyMTUPrTpQvuxDM05pbpsF/w",
      "include_colab_link": true
    },
    "kernelspec": {
      "name": "python3",
      "display_name": "Python 3"
    },
    "language_info": {
      "name": "python"
    }
  },
  "cells": [
    {
      "cell_type": "markdown",
      "metadata": {
        "id": "view-in-github",
        "colab_type": "text"
      },
      "source": [
        "<a href=\"https://colab.research.google.com/github/K-ple/Learn/blob/main/AI_Tech/AI_Tech_W1.ipynb\" target=\"_parent\"><img src=\"https://colab.research.google.com/assets/colab-badge.svg\" alt=\"Open In Colab\"/></a>"
      ]
    },
    {
      "cell_type": "markdown",
      "source": [
        "# Day1"
      ],
      "metadata": {
        "id": "Is-yE2wap85O"
      }
    },
    {
      "cell_type": "markdown",
      "source": [
        "##Pytorch Intro"
      ],
      "metadata": {
        "id": "TsyW48eXC6lO"
      }
    },
    {
      "cell_type": "code",
      "execution_count": null,
      "metadata": {
        "id": "J7qi0af1j8aF"
      },
      "outputs": [],
      "source": [
        "import torch"
      ]
    },
    {
      "cell_type": "code",
      "source": [
        "# 0-D Tensor (=Scalar)의 코드 표현 실습\n",
        "a = torch.tensor(36.5)\n",
        "print('a =', a)"
      ],
      "metadata": {
        "colab": {
          "base_uri": "https://localhost:8080/"
        },
        "id": "OA1IzT0Sku5C",
        "outputId": "42a810e0-3551-4844-a927-eb1060ee37f8"
      },
      "execution_count": null,
      "outputs": [
        {
          "output_type": "stream",
          "name": "stdout",
          "text": [
            "a = tensor(36.5000)\n"
          ]
        }
      ]
    },
    {
      "cell_type": "code",
      "source": [
        "# 1-D Tensor (=Vector)의 코드 표현 실습\n",
        "b = torch.tensor([175, 60, 81, 0.8, 0.9])\n",
        "print('b =', b)"
      ],
      "metadata": {
        "colab": {
          "base_uri": "https://localhost:8080/"
        },
        "id": "dpPlG8G8k5uY",
        "outputId": "4e99fe21-040b-4214-ac1a-96b134f52410"
      },
      "execution_count": null,
      "outputs": [
        {
          "output_type": "stream",
          "name": "stdout",
          "text": [
            "b = tensor([175.0000,  60.0000,  81.0000,   0.8000,   0.9000])\n"
          ]
        }
      ]
    },
    {
      "cell_type": "code",
      "source": [
        "# 2-D Tensor (=Matrix)의 코드 표현 실습\n",
        "\n",
        "c = torch.tensor([[77, 114, 140,191], [39, 56, 46, 119],[61,29,20,33]])\n",
        "print('c =', c)"
      ],
      "metadata": {
        "colab": {
          "base_uri": "https://localhost:8080/"
        },
        "id": "8SgXcATbk9zD",
        "outputId": "d99015ea-961b-42d8-f9f5-5a1b185f4cc2"
      },
      "execution_count": null,
      "outputs": [
        {
          "output_type": "stream",
          "name": "stdout",
          "text": [
            "c = tensor([[ 77, 114, 140, 191],\n",
            "        [ 39,  56,  46, 119],\n",
            "        [ 61,  29,  20,  33]])\n"
          ]
        }
      ]
    },
    {
      "cell_type": "code",
      "source": [
        "# 그레이스케일 이미지의 코드 표현 실습\n",
        "import matplotlib.pyplot as plt\n",
        "\n",
        "plt.xticks([]), plt.yticks([])\n",
        "plt.imshow(c, cmap='gray', vmin=0, vmax=255)\n",
        "plt.show()"
      ],
      "metadata": {
        "colab": {
          "base_uri": "https://localhost:8080/",
          "height": 406
        },
        "id": "PhMlCeJqmTZa",
        "outputId": "ed6df26a-66df-48ee-edc6-ab506d709f98"
      },
      "execution_count": null,
      "outputs": [
        {
          "output_type": "display_data",
          "data": {
            "text/plain": [
              "<Figure size 640x480 with 1 Axes>"
            ],
            "image/png": "[encoded data removed]"
          },
          "metadata": {}
        }
      ]
    },
    {
      "cell_type": "code",
      "source": [
        "# 3-D Tensor의 코드 표현 실습\n",
        "# 채널별로 Tensor 생성\n",
        "\n",
        "red_channel = torch.tensor([[255,0], [0,255]])\n",
        "green_channel = torch.tensor([[0,255], [0,255]])\n",
        "blue_channel = torch.tensor([[0,0], [255,0]])\n",
        "\n",
        "# 세 채널을 결합해서 하나의 3차원 텐서로 합침,\n",
        "\n",
        "d = torch.stack([red_channel, green_channel, blue_channel], dim=2)\n",
        "print('d =', d)"
      ],
      "metadata": {
        "colab": {
          "base_uri": "https://localhost:8080/"
        },
        "id": "KCI1uVqcm9O7",
        "outputId": "affa027e-8038-4408-ca76-255b68df1038"
      },
      "execution_count": null,
      "outputs": [
        {
          "output_type": "stream",
          "name": "stdout",
          "text": [
            "d = tensor([[[255,   0,   0],\n",
            "         [  0, 255,   0]],\n",
            "\n",
            "        [[  0,   0, 255],\n",
            "         [255, 255,   0]]])\n"
          ]
        }
      ]
    },
    {
      "cell_type": "code",
      "source": [
        "#컬러 이미지의 코드 표현 실습\n",
        "plt.xticks([]), plt.yticks([])\n",
        "plt.imshow(d)\n",
        "plt.show()"
      ],
      "metadata": {
        "colab": {
          "base_uri": "https://localhost:8080/",
          "height": 406
        },
        "id": "R16sTrWJnVwR",
        "outputId": "44d6d339-f732-43c0-c322-a2d1a24ef498"
      },
      "execution_count": null,
      "outputs": [
        {
          "output_type": "display_data",
          "data": {
            "text/plain": [
              "<Figure size 640x480 with 1 Axes>"
            ],
            "image/png": "[encoded data removed]"
          },
          "metadata": {}
        }
      ]
    },
    {
      "cell_type": "markdown",
      "source": [
        "##Data Type & Basic *Functions*"
      ],
      "metadata": {
        "id": "GKEaPwJQELXJ"
      }
    },
    {
      "cell_type": "markdown",
      "source": [
        "### PyTorch의 데이터 타입"
      ],
      "metadata": {
        "id": "vkUiiWMkqq6m"
      }
    },
    {
      "cell_type": "code",
      "source": [
        "import torch"
      ],
      "metadata": {
        "id": "AWtchdslEYgT"
      },
      "execution_count": null,
      "outputs": []
    },
    {
      "cell_type": "code",
      "source": [
        "# 정수형 데이터 타입 코드 표현 실습\n",
        "# 8비트 부호가 없는 정수 코드 표현 실습\n",
        "\n",
        "a = torch.tensor(1, dtype = torch.uint8)\n",
        "print('a =',a)\n",
        "print('a.dtype =', a.dtype)"
      ],
      "metadata": {
        "colab": {
          "base_uri": "https://localhost:8080/"
        },
        "id": "SXNQujBjEcG3",
        "outputId": "3d4761ec-4711-46f0-fda6-09dc6112bc8a"
      },
      "execution_count": null,
      "outputs": [
        {
          "output_type": "stream",
          "name": "stdout",
          "text": [
            "a = tensor(1, dtype=torch.uint8)\n",
            "a.dtype = torch.uint8\n"
          ]
        }
      ]
    },
    {
      "cell_type": "code",
      "source": [
        "# 8비트 부호 있는 정수 코드 표현 실습\n",
        "\n",
        "b = torch.tensor(-1, dtype = torch.int8)\n",
        "print('b =',b)\n",
        "print('b.dtype =', b.dtype)"
      ],
      "metadata": {
        "colab": {
          "base_uri": "https://localhost:8080/"
        },
        "id": "ZuQ_qgBkEqyg",
        "outputId": "336ebc36-5712-4c0d-a6e7-18b3ad2d397f"
      },
      "execution_count": null,
      "outputs": [
        {
          "output_type": "stream",
          "name": "stdout",
          "text": [
            "b = tensor(-1, dtype=torch.int8)\n",
            "b.dtype = torch.int8\n"
          ]
        }
      ]
    },
    {
      "cell_type": "code",
      "source": [
        "# 8비트 부호 없는 정수 코드 표현 실습\n",
        "\n",
        "c = torch.tensor(-1, dtype = torch.uint8)\n",
        "print('c =',c)\n",
        "print('c.dtype =', c.dtype)"
      ],
      "metadata": {
        "colab": {
          "base_uri": "https://localhost:8080/"
        },
        "id": "3JtZ1JNWExva",
        "outputId": "1a3ae985-a299-4513-824e-53d91a561b00"
      },
      "execution_count": null,
      "outputs": [
        {
          "output_type": "stream",
          "name": "stdout",
          "text": [
            "c = tensor(255, dtype=torch.uint8)\n",
            "c.dtype = torch.uint8\n"
          ]
        }
      ]
    },
    {
      "cell_type": "code",
      "source": [
        "# 16비트 부호 있는 정수 코드 표현 실습\n",
        "\n",
        "d = torch.tensor(1, dtype = torch.short)\n",
        "print('d =',d)\n",
        "print('d.dtype =', d.dtype)"
      ],
      "metadata": {
        "colab": {
          "base_uri": "https://localhost:8080/"
        },
        "id": "qrOOF0PxE4cB",
        "outputId": "77ff49b2-933e-428e-b104-58304486e4fe"
      },
      "execution_count": null,
      "outputs": [
        {
          "output_type": "stream",
          "name": "stdout",
          "text": [
            "d = tensor(1, dtype=torch.int16)\n",
            "d.dtype = torch.int16\n"
          ]
        }
      ]
    },
    {
      "cell_type": "code",
      "source": [
        "# 32비트 부호 있는 정수 코드 표현 실습\n",
        "\n",
        "e = torch.tensor(2, dtype = torch.int)\n",
        "print('e =',e)\n",
        "print('e.dtype =', e.dtype)"
      ],
      "metadata": {
        "colab": {
          "base_uri": "https://localhost:8080/"
        },
        "id": "3yaLNtHrFKmR",
        "outputId": "65ec2090-3005-448a-c0f0-aadcc1b1ed43"
      },
      "execution_count": null,
      "outputs": [
        {
          "output_type": "stream",
          "name": "stdout",
          "text": [
            "e = tensor(2, dtype=torch.int32)\n",
            "e.dtype = torch.int32\n"
          ]
        }
      ]
    },
    {
      "cell_type": "code",
      "source": [
        "# 64비트 부호 있는 정수 코드 표현 실습\n",
        "\n",
        "f = torch.tensor([[1,2,3],\n",
        "                [4,5,6]], dtype = torch.long)\n",
        "print('f =',f)\n",
        "print('f.dtype =', f.dtype)"
      ],
      "metadata": {
        "colab": {
          "base_uri": "https://localhost:8080/"
        },
        "id": "BnzFpdS8FfGv",
        "outputId": "9ea2170d-34ce-49d5-8d4d-002e2201f7ef"
      },
      "execution_count": null,
      "outputs": [
        {
          "output_type": "stream",
          "name": "stdout",
          "text": [
            "f = tensor([[1, 2, 3],\n",
            "        [4, 5, 6]])\n",
            "f.dtype = torch.int64\n"
          ]
        }
      ]
    },
    {
      "cell_type": "code",
      "source": [
        "# 실수형 데이터 타입 코드 표현 실습\n",
        "# 32비트 부돋 소수점 수의 코드 표현 실습\n",
        "\n",
        "g = torch.tensor(1, dtype = torch.float32)\n",
        "print('g =',g)\n",
        "print('g.dtype =', g.dtype)"
      ],
      "metadata": {
        "colab": {
          "base_uri": "https://localhost:8080/"
        },
        "id": "8plYIq7SlKqo",
        "outputId": "4ad2566f-343b-431d-e7f5-c26b78f73227"
      },
      "execution_count": null,
      "outputs": [
        {
          "output_type": "stream",
          "name": "stdout",
          "text": [
            "g = tensor(1.)\n",
            "g.dtype = torch.float32\n"
          ]
        }
      ]
    },
    {
      "cell_type": "code",
      "source": [
        "# 64비트 부동 소수점 수의 코드 표현 실습\n",
        "\n",
        "h = torch.tensor([[1,2,3],[4,5,6]], dtype = torch.double)\n",
        "print('h =',h)\n",
        "print('h.dtype =', h.dtype)"
      ],
      "metadata": {
        "colab": {
          "base_uri": "https://localhost:8080/"
        },
        "id": "2ejBxB8rlVui",
        "outputId": "ec97a813-70d9-49c0-9e61-ae6f5a24727d"
      },
      "execution_count": null,
      "outputs": [
        {
          "output_type": "stream",
          "name": "stdout",
          "text": [
            "h = tensor([[1., 2., 3.],\n",
            "        [4., 5., 6.]], dtype=torch.float64)\n",
            "h.dtype = torch.float64\n"
          ]
        }
      ]
    },
    {
      "cell_type": "markdown",
      "source": [
        "###타입 캐스팅"
      ],
      "metadata": {
        "id": "U65qo9EbmDsT"
      }
    },
    {
      "cell_type": "code",
      "source": [
        "# 타입 캐스팅 코드 표현 실습\n",
        "# 32비트 부동 소수점 수로 변환 코드 표현 실습\n",
        "\n",
        "i = torch.tensor([2,3,4], dtype = torch.int8)\n",
        "j= i.float()\n",
        "print('j.dtype =',j.dtype)"
      ],
      "metadata": {
        "colab": {
          "base_uri": "https://localhost:8080/"
        },
        "id": "4KyK1pXul-yE",
        "outputId": "9ab74f45-a201-47ca-98d4-8b4f8d38ef9d"
      },
      "execution_count": null,
      "outputs": [
        {
          "output_type": "stream",
          "name": "stdout",
          "text": [
            "j.dtype = torch.float32\n"
          ]
        }
      ]
    },
    {
      "cell_type": "code",
      "source": [
        "# 64비트 부동 소수점 수로 변환 코드 표현\n",
        "\n",
        "k = i.double()\n",
        "print('k.dtype =',k.dtype)"
      ],
      "metadata": {
        "colab": {
          "base_uri": "https://localhost:8080/"
        },
        "id": "4i8Di4Z9mext",
        "outputId": "61137fc7-5736-4b58-bf2b-aac600f37a27"
      },
      "execution_count": null,
      "outputs": [
        {
          "output_type": "stream",
          "name": "stdout",
          "text": [
            "k.dtype = torch.float64\n"
          ]
        }
      ]
    },
    {
      "cell_type": "markdown",
      "source": [
        "###Tensor의 요소 반환 및 계산함수"
      ],
      "metadata": {
        "id": "3UQOmZyAoIIe"
      }
    },
    {
      "cell_type": "code",
      "source": [
        "# Tensor의 요소를 반환하거나 계산하는 함수의 코드 표현 실습\n",
        "l = torch.tensor([[1,2,3],[3,4,5]], dtype=torch.float)"
      ],
      "metadata": {
        "id": "EJn9GSyapSqh"
      },
      "execution_count": null,
      "outputs": []
    },
    {
      "cell_type": "markdown",
      "source": [
        "최솟값"
      ],
      "metadata": {
        "id": "poVGih5SpZ1k"
      }
    },
    {
      "cell_type": "code",
      "source": [
        "# min() 함수의 코드 표현 실습\n",
        "\n",
        "print('torch.min() =',torch.min(l))"
      ],
      "metadata": {
        "colab": {
          "base_uri": "https://localhost:8080/"
        },
        "id": "T4DW0u9CmnL8",
        "outputId": "097d76b5-91b3-4515-a126-b989d639ab89"
      },
      "execution_count": null,
      "outputs": [
        {
          "output_type": "stream",
          "name": "stdout",
          "text": [
            "torch.min() = tensor(1.)\n"
          ]
        }
      ]
    },
    {
      "cell_type": "markdown",
      "source": [
        "최댓값"
      ],
      "metadata": {
        "id": "Q1jAalYfpbjr"
      }
    },
    {
      "cell_type": "code",
      "source": [
        "# max() 함수의 코드 표현 실습\n",
        "\n",
        "print('torch.max() =',torch.max(l))"
      ],
      "metadata": {
        "colab": {
          "base_uri": "https://localhost:8080/"
        },
        "id": "3egoxCl8oh9M",
        "outputId": "cf0b274e-8052-41bc-aad7-20be6a382991"
      },
      "execution_count": null,
      "outputs": [
        {
          "output_type": "stream",
          "name": "stdout",
          "text": [
            "torch.max() = tensor(5.)\n"
          ]
        }
      ]
    },
    {
      "cell_type": "markdown",
      "source": [
        "표본합"
      ],
      "metadata": {
        "id": "z67-Vmibpc1n"
      }
    },
    {
      "cell_type": "code",
      "source": [
        "# sum() 함수의 코드 표현 실습\n",
        "\n",
        "print('torch.sum() =',torch.sum(l))"
      ],
      "metadata": {
        "colab": {
          "base_uri": "https://localhost:8080/"
        },
        "id": "ILO8ibw3o8Fd",
        "outputId": "170ec682-1f5b-4d4c-f08d-632fddbea3d8"
      },
      "execution_count": null,
      "outputs": [
        {
          "output_type": "stream",
          "name": "stdout",
          "text": [
            "torch.sum() = tensor(18.)\n"
          ]
        }
      ]
    },
    {
      "cell_type": "markdown",
      "source": [
        "표본곱"
      ],
      "metadata": {
        "id": "u5zlGZH6pfSZ"
      }
    },
    {
      "cell_type": "code",
      "source": [
        "# prod() 함수의 코드 표현 실습\n",
        "\n",
        "print('torch.prod() =',torch.prod(l))"
      ],
      "metadata": {
        "colab": {
          "base_uri": "https://localhost:8080/"
        },
        "id": "J-9Fhwq6pAii",
        "outputId": "022a5ce8-9cef-4435-cea1-515549296879"
      },
      "execution_count": null,
      "outputs": [
        {
          "output_type": "stream",
          "name": "stdout",
          "text": [
            "torch.prod() = tensor(360.)\n"
          ]
        }
      ]
    },
    {
      "cell_type": "markdown",
      "source": [
        "표본평균"
      ],
      "metadata": {
        "id": "7bPAW06rpgYt"
      }
    },
    {
      "cell_type": "code",
      "source": [
        "# mean() 함수의 코드 표현 실습\n",
        "\n",
        "print('torch.mean() =',torch.mean(l))"
      ],
      "metadata": {
        "colab": {
          "base_uri": "https://localhost:8080/"
        },
        "id": "vaBFMewSpD1Q",
        "outputId": "af7ada27-4498-48b6-88c3-2c38d491f8fb"
      },
      "execution_count": null,
      "outputs": [
        {
          "output_type": "stream",
          "name": "stdout",
          "text": [
            "torch.mean() = tensor(3.)\n"
          ]
        }
      ]
    },
    {
      "cell_type": "markdown",
      "source": [
        "표본분"
      ],
      "metadata": {
        "id": "zfk4VZAypm6H"
      }
    },
    {
      "cell_type": "code",
      "source": [
        "# var() 함수의 코드 표현 실습\n",
        "\n",
        "print('torch.var() =',torch.var(l))"
      ],
      "metadata": {
        "colab": {
          "base_uri": "https://localhost:8080/"
        },
        "id": "Zy5pA4vKpKZB",
        "outputId": "ecc9c4de-92ab-4165-8d4a-ba6b0e760b27"
      },
      "execution_count": null,
      "outputs": [
        {
          "output_type": "stream",
          "name": "stdout",
          "text": [
            "torch.var() = tensor(2.)\n"
          ]
        }
      ]
    },
    {
      "cell_type": "markdown",
      "source": [
        "표본표준편차"
      ],
      "metadata": {
        "id": "ptFieYRWp1hf"
      }
    },
    {
      "cell_type": "code",
      "source": [
        "# std() 함수의 코드 표현 실습\n",
        "\n",
        "print('torch.std() =',torch.std(l))"
      ],
      "metadata": {
        "colab": {
          "base_uri": "https://localhost:8080/"
        },
        "id": "213ZOd2tpOqI",
        "outputId": "6645f2db-26ec-42f9-e1a8-2feb702169e6"
      },
      "execution_count": null,
      "outputs": [
        {
          "output_type": "stream",
          "name": "stdout",
          "text": [
            "torch.std() = tensor(1.4142)\n"
          ]
        }
      ]
    },
    {
      "cell_type": "markdown",
      "source": [
        "### Tensor의 특성 확인 메서드"
      ],
      "metadata": {
        "id": "klsiX9-DrKSC"
      }
    },
    {
      "cell_type": "code",
      "source": [
        "# Tensor의 차원의 수를 확인하는 코드 표현 실습\n",
        "\n",
        "print('l.dim() = ', l.dim())"
      ],
      "metadata": {
        "colab": {
          "base_uri": "https://localhost:8080/"
        },
        "id": "BMJ_gBrYpv_I",
        "outputId": "a0f27a6e-288b-42de-a837-b835c041276b"
      },
      "execution_count": null,
      "outputs": [
        {
          "output_type": "stream",
          "name": "stdout",
          "text": [
            "l.dim() =  2\n"
          ]
        }
      ]
    },
    {
      "cell_type": "code",
      "source": [
        "# Tensor의 모양(크기)를 확인하는 코드 표현 실습\n",
        "\n",
        "l.size()\n",
        "print('l.size() = ', l.size())"
      ],
      "metadata": {
        "colab": {
          "base_uri": "https://localhost:8080/"
        },
        "id": "pusJtshzrWA3",
        "outputId": "ba6531da-4a53-4acf-9375-bf8f222ced6b"
      },
      "execution_count": null,
      "outputs": [
        {
          "output_type": "stream",
          "name": "stdout",
          "text": [
            "l.size() =  torch.Size([2, 3])\n"
          ]
        }
      ]
    },
    {
      "cell_type": "code",
      "source": [
        "l.shape\n",
        "print('l.shape = ', l.shape)"
      ],
      "metadata": {
        "colab": {
          "base_uri": "https://localhost:8080/"
        },
        "id": "kzp-NLW_rckb",
        "outputId": "74963baa-c121-472d-9dfd-5503f2a20a92"
      },
      "execution_count": null,
      "outputs": [
        {
          "output_type": "stream",
          "name": "stdout",
          "text": [
            "l.shape =  torch.Size([2, 3])\n"
          ]
        }
      ]
    },
    {
      "cell_type": "code",
      "source": [
        "# Tensor의 요소의 총 개수를 확인하는 코드 표현 실습\n",
        "\n",
        "l.numel()\n",
        "print('l.numel() = ', l.numel())"
      ],
      "metadata": {
        "colab": {
          "base_uri": "https://localhost:8080/"
        },
        "id": "eBAp-fsBrg8V",
        "outputId": "1fd0371a-d93d-4a96-838f-6e0b077c41b7"
      },
      "execution_count": null,
      "outputs": [
        {
          "output_type": "stream",
          "name": "stdout",
          "text": [
            "l.numel() =  6\n"
          ]
        }
      ]
    },
    {
      "cell_type": "markdown",
      "source": [
        "#Day2"
      ],
      "metadata": {
        "id": "2YIVj50nyYDx"
      }
    },
    {
      "cell_type": "markdown",
      "source": [
        "##Creating Tensors"
      ],
      "metadata": {
        "id": "p3rqehXQOjqH"
      }
    },
    {
      "cell_type": "markdown",
      "source": [
        "###특정 값으로 초기화된 Tensor 생성"
      ],
      "metadata": {
        "id": "1bzLpP0oQvNi"
      }
    },
    {
      "cell_type": "code",
      "source": [
        "import torch"
      ],
      "metadata": {
        "id": "be0rBkxLP1BE"
      },
      "execution_count": null,
      "outputs": []
    },
    {
      "cell_type": "code",
      "source": [
        "# 0으로 초기화된 Tensor를 생성하는 코드 표현 실습\n",
        "\n",
        "a = torch.zeros(5)\n",
        "\n",
        "print('a = ', a)"
      ],
      "metadata": {
        "colab": {
          "base_uri": "https://localhost:8080/"
        },
        "id": "abEMZmR9P2bJ",
        "outputId": "8c472e82-e5f3-4eb6-cafc-82c3ca19dd13"
      },
      "execution_count": null,
      "outputs": [
        {
          "output_type": "stream",
          "name": "stdout",
          "text": [
            "a =  tensor([0., 0., 0., 0., 0.])\n"
          ]
        }
      ]
    },
    {
      "cell_type": "code",
      "source": [
        "print('a.dtype =',a.dtype)"
      ],
      "metadata": {
        "colab": {
          "base_uri": "https://localhost:8080/"
        },
        "id": "H-15cXQvP8YT",
        "outputId": "80788642-1f15-498d-d93e-56c6e72faf31"
      },
      "execution_count": null,
      "outputs": [
        {
          "output_type": "stream",
          "name": "stdout",
          "text": [
            "a.dtype = torch.float32\n"
          ]
        }
      ]
    },
    {
      "cell_type": "code",
      "source": [
        "b = torch.zeros([2,3]) #2행 3열(2x3)\n",
        "\n",
        "print('b = ', b)"
      ],
      "metadata": {
        "colab": {
          "base_uri": "https://localhost:8080/"
        },
        "id": "4k0Rw8-KP_vU",
        "outputId": "dc138638-7c85-4ab3-c352-5a1795c1de7a"
      },
      "execution_count": null,
      "outputs": [
        {
          "output_type": "stream",
          "name": "stdout",
          "text": [
            "b =  tensor([[0., 0., 0.],\n",
            "        [0., 0., 0.]])\n"
          ]
        }
      ]
    },
    {
      "cell_type": "code",
      "source": [
        "print('b.type = ',b.dtype)"
      ],
      "metadata": {
        "colab": {
          "base_uri": "https://localhost:8080/"
        },
        "id": "9U0AFI53QB3J",
        "outputId": "da26732c-9fe2-49ce-bc57-634dcb22893c"
      },
      "execution_count": null,
      "outputs": [
        {
          "output_type": "stream",
          "name": "stdout",
          "text": [
            "b.type =  torch.float32\n"
          ]
        }
      ]
    },
    {
      "cell_type": "code",
      "source": [
        "c = torch.zeros([3,2,4]) #3x2x4 (3-D Tensor)\n",
        "\n",
        "print('c = ', c)"
      ],
      "metadata": {
        "colab": {
          "base_uri": "https://localhost:8080/"
        },
        "id": "3mIaOkJmQJeW",
        "outputId": "bdb687c5-bdd2-4c92-c123-9f8e680b13b4"
      },
      "execution_count": null,
      "outputs": [
        {
          "output_type": "stream",
          "name": "stdout",
          "text": [
            "c =  tensor([[[0., 0., 0., 0.],\n",
            "         [0., 0., 0., 0.]],\n",
            "\n",
            "        [[0., 0., 0., 0.],\n",
            "         [0., 0., 0., 0.]],\n",
            "\n",
            "        [[0., 0., 0., 0.],\n",
            "         [0., 0., 0., 0.]]])\n"
          ]
        }
      ]
    },
    {
      "cell_type": "code",
      "source": [
        "# 1로 초기화된 Tensro를 생성하는 코드 표현 실습\n",
        "\n",
        "d = torch.ones(3)\n",
        "\n",
        "print('d = ',d)"
      ],
      "metadata": {
        "colab": {
          "base_uri": "https://localhost:8080/"
        },
        "id": "Pr35S4HmQYgk",
        "outputId": "7461887b-60bd-4bac-b7bb-b081a1608121"
      },
      "execution_count": null,
      "outputs": [
        {
          "output_type": "stream",
          "name": "stdout",
          "text": [
            "d =  tensor([1., 1., 1.])\n"
          ]
        }
      ]
    },
    {
      "cell_type": "code",
      "source": [
        "e = torch.ones([3,2])\n",
        "\n",
        "print('e = ',e)"
      ],
      "metadata": {
        "colab": {
          "base_uri": "https://localhost:8080/"
        },
        "id": "wyZxy3FbQe0y",
        "outputId": "880b0ea7-8200-4e42-9299-8356b9aedbd7"
      },
      "execution_count": null,
      "outputs": [
        {
          "output_type": "stream",
          "name": "stdout",
          "text": [
            "e =  tensor([[1., 1.],\n",
            "        [1., 1.],\n",
            "        [1., 1.]])\n"
          ]
        }
      ]
    },
    {
      "cell_type": "code",
      "source": [
        "f = torch.ones([3,2,3])\n",
        "\n",
        "print('f = ',f)"
      ],
      "metadata": {
        "colab": {
          "base_uri": "https://localhost:8080/"
        },
        "id": "77De-mX7QlZn",
        "outputId": "9aaf19f1-bafc-4a88-8a35-a07a5d7059d9"
      },
      "execution_count": null,
      "outputs": [
        {
          "output_type": "stream",
          "name": "stdout",
          "text": [
            "f =  tensor([[[1., 1., 1.],\n",
            "         [1., 1., 1.]],\n",
            "\n",
            "        [[1., 1., 1.],\n",
            "         [1., 1., 1.]],\n",
            "\n",
            "        [[1., 1., 1.],\n",
            "         [1., 1., 1.]]])\n"
          ]
        }
      ]
    },
    {
      "cell_type": "markdown",
      "source": [
        "### 특정한 값으로 초기화된 Tensor 변환"
      ],
      "metadata": {
        "id": "3pdfQUs4Q48_"
      }
    },
    {
      "cell_type": "code",
      "source": [
        "# 크기와 자료형이 같은 0으로 초기화된 Tensor로 변환하는 코드 표현 실습\n",
        "\n",
        "g = torch.zeros_like(e)\n",
        "\n",
        "print('g = ',g)"
      ],
      "metadata": {
        "colab": {
          "base_uri": "https://localhost:8080/"
        },
        "id": "tUUmNC-uQnye",
        "outputId": "86f6d94b-ade7-4a0e-9870-6f8d29d0f1b5"
      },
      "execution_count": null,
      "outputs": [
        {
          "output_type": "stream",
          "name": "stdout",
          "text": [
            "g =  tensor([[0., 0.],\n",
            "        [0., 0.],\n",
            "        [0., 0.]])\n"
          ]
        }
      ]
    },
    {
      "cell_type": "code",
      "source": [
        "# 크기와 자료형이 같은 1로 초기화된 Tensor로 변환하는 코드 표현 실습\n",
        "\n",
        "h = torch.ones_like(b)\n",
        "\n",
        "print('h = ',h)"
      ],
      "metadata": {
        "colab": {
          "base_uri": "https://localhost:8080/"
        },
        "id": "k6DgcRtIRFdC",
        "outputId": "650924d3-790e-4941-fc6f-ccefa569ded3"
      },
      "execution_count": null,
      "outputs": [
        {
          "output_type": "stream",
          "name": "stdout",
          "text": [
            "h =  tensor([[1., 1., 1.],\n",
            "        [1., 1., 1.]])\n"
          ]
        }
      ]
    },
    {
      "cell_type": "markdown",
      "source": [
        "### 난수로 초기화된 Tensor 생성"
      ],
      "metadata": {
        "id": "BCCIzU13RS1V"
      }
    },
    {
      "cell_type": "code",
      "source": [
        "# [0,1] 구간의 연속균등분포 난수 Tensor 생성 코드 표현 실습\n",
        "\n",
        "i = torch.rand(3)\n",
        "\n",
        "print('i = ',i)"
      ],
      "metadata": {
        "colab": {
          "base_uri": "https://localhost:8080/"
        },
        "id": "wMLT1fLSRPI8",
        "outputId": "2b6b5e97-9d23-48d1-9479-e669acc7c61b"
      },
      "execution_count": null,
      "outputs": [
        {
          "output_type": "stream",
          "name": "stdout",
          "text": [
            "i =  tensor([0.5029, 0.7055, 0.1004])\n"
          ]
        }
      ]
    },
    {
      "cell_type": "code",
      "source": [
        "j = torch.rand([2,3])\n",
        "print('j = ',j)"
      ],
      "metadata": {
        "colab": {
          "base_uri": "https://localhost:8080/"
        },
        "id": "CNNs3jFsSjl-",
        "outputId": "cad5eee0-9bb7-49ad-f253-29114415db95"
      },
      "execution_count": null,
      "outputs": [
        {
          "output_type": "stream",
          "name": "stdout",
          "text": [
            "j =  tensor([[0.9899, 0.9488, 0.2088],\n",
            "        [0.7436, 0.3401, 0.6944]])\n"
          ]
        }
      ]
    },
    {
      "cell_type": "code",
      "source": [
        "# 표준정규분포 난수 Tensor 생성 코드 표현 실습\n",
        "\n",
        "k = torch.randn(3)\n",
        "\n",
        "print('k = ',k)"
      ],
      "metadata": {
        "colab": {
          "base_uri": "https://localhost:8080/"
        },
        "id": "CBytdAHpSpUh",
        "outputId": "c64956ed-26ee-4fff-a6ba-3ce99252ccab"
      },
      "execution_count": null,
      "outputs": [
        {
          "output_type": "stream",
          "name": "stdout",
          "text": [
            "k =  tensor([-0.2604,  0.7347,  0.4491])\n"
          ]
        }
      ]
    },
    {
      "cell_type": "code",
      "source": [
        "l = torch.randn([2,3])\n",
        "\n",
        "print('l = ',l)"
      ],
      "metadata": {
        "colab": {
          "base_uri": "https://localhost:8080/"
        },
        "id": "Fwe6WiFSSvWz",
        "outputId": "941a00e2-4d7f-4e5a-cdca-312866e7603a"
      },
      "execution_count": null,
      "outputs": [
        {
          "output_type": "stream",
          "name": "stdout",
          "text": [
            "l =  tensor([[-0.7678,  0.1687, -0.2941],\n",
            "        [-0.3982,  0.3027, -0.4413]])\n"
          ]
        }
      ]
    },
    {
      "cell_type": "code",
      "source": [
        "from re import M\n",
        "# 크기와 자료형이 같은 [0,1] 구간의 연속균등분포 난수 Tensor로 변환하는 코드 표현 실습\n",
        "\n",
        "m = torch.rand_like(k)\n",
        "print('m = ',m)"
      ],
      "metadata": {
        "colab": {
          "base_uri": "https://localhost:8080/"
        },
        "id": "pP5u5n5YS2yX",
        "outputId": "e95f3511-74d5-41a3-edcd-05fa5bf2c3e6"
      },
      "execution_count": null,
      "outputs": [
        {
          "output_type": "stream",
          "name": "stdout",
          "text": [
            "m =  tensor([0.6408, 0.3690, 0.9232])\n"
          ]
        }
      ]
    },
    {
      "cell_type": "code",
      "source": [
        "# 크기와 자료형이 같은 [0,1] 구간의 표준정규분포 Tensor로 변환하는 코드 표현\n",
        "\n",
        "n = torch.randn_like(i)\n",
        "print('n = ',n)"
      ],
      "metadata": {
        "colab": {
          "base_uri": "https://localhost:8080/"
        },
        "id": "YTpYXUzKTBkB",
        "outputId": "616920b2-4f2f-4b5a-c278-11c4b54787af"
      },
      "execution_count": null,
      "outputs": [
        {
          "output_type": "stream",
          "name": "stdout",
          "text": [
            "n =  tensor([-1.1005, -1.1231,  1.7403])\n"
          ]
        }
      ]
    },
    {
      "cell_type": "markdown",
      "source": [
        "###지정된 범위 내에서 초기화된 Tensor 생성"
      ],
      "metadata": {
        "id": "Nu992KgKTpyB"
      }
    },
    {
      "cell_type": "code",
      "source": [
        "# 지정된 범위 내에서 초기화된 Tensor 생성하는 코드 표현 실습\n",
        "\n",
        "o = torch.arange(start=1,end=11,step=2)\n",
        "\n",
        "print('o = ',o)"
      ],
      "metadata": {
        "colab": {
          "base_uri": "https://localhost:8080/"
        },
        "id": "IpzV_-cHTNKn",
        "outputId": "0a56d396-d08c-41f9-95f6-1e237eb06c3d"
      },
      "execution_count": null,
      "outputs": [
        {
          "output_type": "stream",
          "name": "stdout",
          "text": [
            "o =  tensor([1, 3, 5, 7, 9])\n"
          ]
        }
      ]
    },
    {
      "cell_type": "code",
      "source": [
        "o.dtype\n",
        "print('o.dtype = ',o.dtype)"
      ],
      "metadata": {
        "colab": {
          "base_uri": "https://localhost:8080/"
        },
        "id": "mAZ1vu5OT35C",
        "outputId": "a0a454ae-69d9-48f0-f0f9-c354c34f4726"
      },
      "execution_count": null,
      "outputs": [
        {
          "output_type": "stream",
          "name": "stdout",
          "text": [
            "o.dtype =  torch.int64\n"
          ]
        }
      ]
    },
    {
      "cell_type": "code",
      "source": [
        "p = torch.arange(start = 1,end = 4,step = 0.5)\n",
        "\n",
        "print('p = ',p)"
      ],
      "metadata": {
        "colab": {
          "base_uri": "https://localhost:8080/"
        },
        "id": "HSfDxEu-T-wb",
        "outputId": "008e5698-20a3-40e5-ef1d-1a62e26bd7c3"
      },
      "execution_count": null,
      "outputs": [
        {
          "output_type": "stream",
          "name": "stdout",
          "text": [
            "p =  tensor([1.0000, 1.5000, 2.0000, 2.5000, 3.0000, 3.5000])\n"
          ]
        }
      ]
    },
    {
      "cell_type": "code",
      "source": [
        "p =torch.arange(1,4,0.5)\n",
        "\n",
        "print('p = ',p)"
      ],
      "metadata": {
        "colab": {
          "base_uri": "https://localhost:8080/"
        },
        "id": "k6_kQg1JUOxn",
        "outputId": "5af08184-eff7-4413-dc03-1ace43b21b34"
      },
      "execution_count": null,
      "outputs": [
        {
          "output_type": "stream",
          "name": "stdout",
          "text": [
            "p =  tensor([1.0000, 1.5000, 2.0000, 2.5000, 3.0000, 3.5000])\n"
          ]
        }
      ]
    },
    {
      "cell_type": "code",
      "source": [
        "p.dtype\n",
        "print('p.dtype = ',p.dtype)"
      ],
      "metadata": {
        "colab": {
          "base_uri": "https://localhost:8080/"
        },
        "id": "ZBP3EGuIUeeT",
        "outputId": "d1243aa7-e4d2-4517-c544-6dd82d205b9c"
      },
      "execution_count": null,
      "outputs": [
        {
          "output_type": "stream",
          "name": "stdout",
          "text": [
            "p.dtype =  torch.float32\n"
          ]
        }
      ]
    },
    {
      "cell_type": "markdown",
      "source": [
        "### 초기화 되지 않은 Tensor 생성"
      ],
      "metadata": {
        "id": "9-brkBJRU_j9"
      }
    },
    {
      "cell_type": "code",
      "source": [
        "# 초기화 되지 않은 Tensor를 생성하는 코드 표현 실습\n",
        "\n",
        "q = torch.empty(5)\n",
        "print('q = ',q)"
      ],
      "metadata": {
        "colab": {
          "base_uri": "https://localhost:8080/"
        },
        "id": "lAUaD2RqUihM",
        "outputId": "52e74377-c1b3-4771-80b6-35fe74a87913"
      },
      "execution_count": null,
      "outputs": [
        {
          "output_type": "stream",
          "name": "stdout",
          "text": [
            "q =  tensor([4.7493e-15, 3.0751e-41, 2.0000e+00, 2.5000e+00, 3.0000e+00])\n"
          ]
        }
      ]
    },
    {
      "cell_type": "code",
      "source": [
        "torch.fill_(q, 3.0)\n",
        "print('q = ',q)"
      ],
      "metadata": {
        "colab": {
          "base_uri": "https://localhost:8080/"
        },
        "id": "l30bdEm0VWyk",
        "outputId": "6a196e47-d97a-48c6-e674-12b32a697c83"
      },
      "execution_count": null,
      "outputs": [
        {
          "output_type": "stream",
          "name": "stdout",
          "text": [
            "q =  tensor([3., 3., 3., 3., 3.])\n"
          ]
        }
      ]
    },
    {
      "cell_type": "code",
      "source": [
        "r = torch.empty([2,3])\n",
        "print('r = ',r)"
      ],
      "metadata": {
        "colab": {
          "base_uri": "https://localhost:8080/"
        },
        "id": "Thr3MyGfVmxF",
        "outputId": "25715e83-bf3b-4ed8-c1b9-e1c43e45056a"
      },
      "execution_count": null,
      "outputs": [
        {
          "output_type": "stream",
          "name": "stdout",
          "text": [
            "r =  tensor([[2.4069e+27, 4.4529e-41, 4.5346e+37],\n",
            "        [3.0756e-41, 4.4842e-44, 0.0000e+00]])\n"
          ]
        }
      ]
    },
    {
      "cell_type": "code",
      "source": [
        "torch.fill_(r, 2.0)\n",
        "print('r = ',r)"
      ],
      "metadata": {
        "colab": {
          "base_uri": "https://localhost:8080/"
        },
        "id": "uJzIUBBPVudw",
        "outputId": "22ac682a-2c74-4889-a020-ff14b3b0a45e"
      },
      "execution_count": null,
      "outputs": [
        {
          "output_type": "stream",
          "name": "stdout",
          "text": [
            "r =  tensor([[2., 2., 2.],\n",
            "        [2., 2., 2.]])\n"
          ]
        }
      ]
    },
    {
      "cell_type": "markdown",
      "source": [
        "### List, Numpy 데이터로부터 Tensor 생성"
      ],
      "metadata": {
        "id": "VQZl-uy1WUi1"
      }
    },
    {
      "cell_type": "code",
      "source": [
        "# list 데이터로부터 Tensor를 생성하는 코드 표현 실습\n",
        "\n",
        "s = [1,2,3,4,5,6]\n",
        "\n",
        "t = torch.tensor(s)\n",
        "print('t = ',t)"
      ],
      "metadata": {
        "colab": {
          "base_uri": "https://localhost:8080/"
        },
        "id": "6_Hs3JlDVwXt",
        "outputId": "f5e47d6b-8e4b-4bc0-849c-ae6e1feb73ed"
      },
      "execution_count": null,
      "outputs": [
        {
          "output_type": "stream",
          "name": "stdout",
          "text": [
            "t =  tensor([1, 2, 3, 4, 5, 6])\n"
          ]
        }
      ]
    },
    {
      "cell_type": "code",
      "source": [
        "# numpy 데이터로부터 Tensor를 생성하는 코드 표현 실습\n",
        "import numpy as np\n",
        "\n",
        "u = np.array([[0,1],\n",
        "             [2,3]])\n",
        "\n",
        "v = torch.from_numpy(u) #from_numpy를 통해 Tensor로 재생성\n",
        "print('v = ',v)"
      ],
      "metadata": {
        "colab": {
          "base_uri": "https://localhost:8080/"
        },
        "id": "CeLw7JDiWgMO",
        "outputId": "17375b4d-6ca7-4859-ab77-164e9fcaf09a"
      },
      "execution_count": null,
      "outputs": [
        {
          "output_type": "stream",
          "name": "stdout",
          "text": [
            "v =  tensor([[0, 1],\n",
            "        [2, 3]])\n"
          ]
        }
      ]
    },
    {
      "cell_type": "code",
      "source": [
        "v = torch.tensor(u).float()\n",
        "print('v = ',v)"
      ],
      "metadata": {
        "colab": {
          "base_uri": "https://localhost:8080/"
        },
        "id": "wocCrDHTWrF9",
        "outputId": "a7e53d27-5172-46e2-aa40-6b969177a6e3"
      },
      "execution_count": null,
      "outputs": [
        {
          "output_type": "stream",
          "name": "stdout",
          "text": [
            "v =  tensor([[0., 1.],\n",
            "        [2., 3.]])\n"
          ]
        }
      ]
    },
    {
      "cell_type": "markdown",
      "source": [
        "### CPU Tensor 생성"
      ],
      "metadata": {
        "id": "srsWNfBVXVcd"
      }
    },
    {
      "cell_type": "code",
      "source": [
        "# 정수형 CPU Tensor를 생성하는 코드 표현 실습\n",
        "\n",
        "w = torch.IntTensor([1,2,3,4,5])\n",
        "print('w = ',w)"
      ],
      "metadata": {
        "colab": {
          "base_uri": "https://localhost:8080/"
        },
        "id": "rrJdmrEfW9S3",
        "outputId": "b7f11b05-0738-42ef-eaab-66cb1be35a5e"
      },
      "execution_count": null,
      "outputs": [
        {
          "output_type": "stream",
          "name": "stdout",
          "text": [
            "w =  tensor([1, 2, 3, 4, 5], dtype=torch.int32)\n"
          ]
        }
      ]
    },
    {
      "cell_type": "code",
      "source": [
        "A,B,C,D,E = 1,2,3,4,5\n",
        "w = torch.IntTensor([A,B,C,D,E])\n",
        "print('w = ',w)"
      ],
      "metadata": {
        "colab": {
          "base_uri": "https://localhost:8080/"
        },
        "id": "2fR_DO_yXfF4",
        "outputId": "4008c1eb-8b0e-4a61-b7a6-2cb6bc41cc82"
      },
      "execution_count": null,
      "outputs": [
        {
          "output_type": "stream",
          "name": "stdout",
          "text": [
            "w =  tensor([1, 2, 3, 4, 5], dtype=torch.int32)\n"
          ]
        }
      ]
    },
    {
      "cell_type": "code",
      "source": [
        "# 실수형 CPU Tensor를 생성하는 코드 표현 실습\n",
        "\n",
        "A,B,C,D,E = 1,2,3,4,5\n",
        "x = torch.FloatTensor([A,B,C,D,E])\n",
        "print('x = ',x)"
      ],
      "metadata": {
        "colab": {
          "base_uri": "https://localhost:8080/"
        },
        "id": "_l4O8D9BXj0q",
        "outputId": "631557c0-6cf9-4dca-80e8-340969ceeaf1"
      },
      "execution_count": null,
      "outputs": [
        {
          "output_type": "stream",
          "name": "stdout",
          "text": [
            "x =  tensor([1., 2., 3., 4., 5.])\n"
          ]
        }
      ]
    },
    {
      "cell_type": "markdown",
      "source": [
        "### Tensor의 복제"
      ],
      "metadata": {
        "id": "1_2B50yBXz0h"
      }
    },
    {
      "cell_type": "code",
      "source": [
        "x = torch.tensor([1,2,3,4,5,6])\n",
        "print('x = ',x)"
      ],
      "metadata": {
        "colab": {
          "base_uri": "https://localhost:8080/"
        },
        "id": "Jl0iOSDmYF9B",
        "outputId": "30d7e744-51d0-4f33-d27d-47d04a149e05"
      },
      "execution_count": null,
      "outputs": [
        {
          "output_type": "stream",
          "name": "stdout",
          "text": [
            "x =  tensor([1, 2, 3, 4, 5, 6])\n"
          ]
        }
      ]
    },
    {
      "cell_type": "code",
      "source": [
        "# Tensor를 복제하는 코드 표현 실습\n",
        "\n",
        "y = x.clone()\n",
        "print('y = ',y)"
      ],
      "metadata": {
        "colab": {
          "base_uri": "https://localhost:8080/"
        },
        "id": "EvdayRNFXu3h",
        "outputId": "a48119ee-3ff6-4850-f5fe-717ca4d3bb71"
      },
      "execution_count": null,
      "outputs": [
        {
          "output_type": "stream",
          "name": "stdout",
          "text": [
            "y =  tensor([1, 2, 3, 4, 5, 6])\n"
          ]
        }
      ]
    },
    {
      "cell_type": "code",
      "source": [
        "# 또 다른 Tensor를 복제하는 코드 표현 실습\n",
        "\n",
        "z = x.detach()\n",
        "print('z = ',z)"
      ],
      "metadata": {
        "colab": {
          "base_uri": "https://localhost:8080/"
        },
        "id": "toflUAYAX5XG",
        "outputId": "ece940e6-50ca-4ec1-9391-08ee4d9fd11c"
      },
      "execution_count": null,
      "outputs": [
        {
          "output_type": "stream",
          "name": "stdout",
          "text": [
            "z =  tensor([1, 2, 3, 4, 5, 6])\n"
          ]
        }
      ]
    },
    {
      "cell_type": "markdown",
      "source": [
        "### CUDA Tensor 생성과 변환"
      ],
      "metadata": {
        "id": "pJJcd62BZXUO"
      }
    },
    {
      "cell_type": "code",
      "source": [
        "# CUDA Tensor를 생성 & 변환하는 코드 표현 실습\n",
        "# tensor가 현재 어떤 디바이스에 있는지 확인\n",
        "\n",
        "a = torch.tensor([1,2,3])\n",
        "a.device"
      ],
      "metadata": {
        "colab": {
          "base_uri": "https://localhost:8080/"
        },
        "id": "x0B1OvlxYRVe",
        "outputId": "8e54cf24-0412-492e-d39c-4d88fc0c8a5b"
      },
      "execution_count": null,
      "outputs": [
        {
          "output_type": "execute_result",
          "data": {
            "text/plain": [
              "device(type='cpu')"
            ]
          },
          "metadata": {},
          "execution_count": 49
        }
      ]
    },
    {
      "cell_type": "code",
      "source": [
        "# CUDA를 사용할 수 있는 환경인지 확인\n",
        "\n",
        "torch.cuda.is_available()"
      ],
      "metadata": {
        "colab": {
          "base_uri": "https://localhost:8080/"
        },
        "id": "98aDkvncZ2y8",
        "outputId": "472e1f26-d455-46bb-9235-0128b63476c1"
      },
      "execution_count": null,
      "outputs": [
        {
          "output_type": "execute_result",
          "data": {
            "text/plain": [
              "False"
            ]
          },
          "metadata": {},
          "execution_count": 50
        }
      ]
    },
    {
      "cell_type": "code",
      "source": [],
      "metadata": {
        "id": "YVAYgW3TZ6mm"
      },
      "execution_count": null,
      "outputs": []
    }
  ]
}